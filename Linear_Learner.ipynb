{
 "cells": [
  {
   "cell_type": "code",
   "execution_count": 31,
   "metadata": {},
   "outputs": [],
   "source": [
    "import pandas as pd\n",
    "from sklearn.model_selection import train_test_split"
   ]
  },
  {
   "cell_type": "code",
   "execution_count": 3,
   "metadata": {},
   "outputs": [],
   "source": [
    "data = pd.read_csv('salary.csv')"
   ]
  },
  {
   "cell_type": "code",
   "execution_count": 4,
   "metadata": {},
   "outputs": [
    {
     "data": {
      "text/plain": [
       "(35, 2)"
      ]
     },
     "execution_count": 4,
     "metadata": {},
     "output_type": "execute_result"
    }
   ],
   "source": [
    "data.shape"
   ]
  },
  {
   "cell_type": "code",
   "execution_count": 5,
   "metadata": {},
   "outputs": [
    {
     "data": {
      "text/html": [
       "<div>\n",
       "<style scoped>\n",
       "    .dataframe tbody tr th:only-of-type {\n",
       "        vertical-align: middle;\n",
       "    }\n",
       "\n",
       "    .dataframe tbody tr th {\n",
       "        vertical-align: top;\n",
       "    }\n",
       "\n",
       "    .dataframe thead th {\n",
       "        text-align: right;\n",
       "    }\n",
       "</style>\n",
       "<table border=\"1\" class=\"dataframe\">\n",
       "  <thead>\n",
       "    <tr style=\"text-align: right;\">\n",
       "      <th></th>\n",
       "      <th>YearsExperience</th>\n",
       "      <th>Salary</th>\n",
       "    </tr>\n",
       "  </thead>\n",
       "  <tbody>\n",
       "    <tr>\n",
       "      <th>0</th>\n",
       "      <td>1.1</td>\n",
       "      <td>39343</td>\n",
       "    </tr>\n",
       "    <tr>\n",
       "      <th>1</th>\n",
       "      <td>1.3</td>\n",
       "      <td>46205</td>\n",
       "    </tr>\n",
       "    <tr>\n",
       "      <th>2</th>\n",
       "      <td>1.5</td>\n",
       "      <td>37731</td>\n",
       "    </tr>\n",
       "    <tr>\n",
       "      <th>3</th>\n",
       "      <td>2.0</td>\n",
       "      <td>43525</td>\n",
       "    </tr>\n",
       "    <tr>\n",
       "      <th>4</th>\n",
       "      <td>2.2</td>\n",
       "      <td>39891</td>\n",
       "    </tr>\n",
       "  </tbody>\n",
       "</table>\n",
       "</div>"
      ],
      "text/plain": [
       "   YearsExperience  Salary\n",
       "0              1.1   39343\n",
       "1              1.3   46205\n",
       "2              1.5   37731\n",
       "3              2.0   43525\n",
       "4              2.2   39891"
      ]
     },
     "execution_count": 5,
     "metadata": {},
     "output_type": "execute_result"
    }
   ],
   "source": [
    "data.head()"
   ]
  },
  {
   "cell_type": "code",
   "execution_count": 15,
   "metadata": {},
   "outputs": [],
   "source": [
    "X = data[['YearsExperience']]\n",
    "y = data[['Salary']]"
   ]
  },
  {
   "cell_type": "code",
   "execution_count": 84,
   "metadata": {},
   "outputs": [],
   "source": [
    "X = np.array(X).astype('float32')\n",
    "y = np.array(y).astype('float32')"
   ]
  },
  {
   "cell_type": "code",
   "execution_count": 85,
   "metadata": {},
   "outputs": [],
   "source": [
    "X_train, X_test, y_train, y_test = train_test_split(X,y, test_size = 0.25)"
   ]
  },
  {
   "cell_type": "code",
   "execution_count": 86,
   "metadata": {},
   "outputs": [
    {
     "data": {
      "text/plain": [
       "array([[ 2.9],\n",
       "       [ 4.9],\n",
       "       [ 3.7],\n",
       "       [ 6.8],\n",
       "       [ 5.9],\n",
       "       [ 3. ],\n",
       "       [10.5],\n",
       "       [ 4.1],\n",
       "       [ 1.5],\n",
       "       [11.5],\n",
       "       [ 8.7],\n",
       "       [ 7.1],\n",
       "       [ 7.9],\n",
       "       [ 2. ],\n",
       "       [ 9.6],\n",
       "       [ 5.1],\n",
       "       [ 3.9],\n",
       "       [12.9],\n",
       "       [ 1.1],\n",
       "       [ 8.2],\n",
       "       [12.3],\n",
       "       [ 5.3],\n",
       "       [ 4.5],\n",
       "       [10.3],\n",
       "       [ 4. ],\n",
       "       [ 9. ]], dtype=float32)"
      ]
     },
     "execution_count": 86,
     "metadata": {},
     "output_type": "execute_result"
    }
   ],
   "source": [
    "X_train"
   ]
  },
  {
   "cell_type": "code",
   "execution_count": 33,
   "metadata": {},
   "outputs": [
    {
     "data": {
      "text/plain": [
       "(26, 1)"
      ]
     },
     "execution_count": 33,
     "metadata": {},
     "output_type": "execute_result"
    }
   ],
   "source": [
    "y_train.shape"
   ]
  },
  {
   "cell_type": "code",
   "execution_count": 19,
   "metadata": {},
   "outputs": [
    {
     "data": {
      "text/plain": [
       "(10, 1)"
      ]
     },
     "execution_count": 19,
     "metadata": {},
     "output_type": "execute_result"
    }
   ],
   "source": [
    "X_test.shape"
   ]
  },
  {
   "cell_type": "markdown",
   "metadata": {},
   "source": [
    "# SAGEMAKER"
   ]
  },
  {
   "cell_type": "code",
   "execution_count": 87,
   "metadata": {},
   "outputs": [],
   "source": [
    "import boto3\n",
    "import sagemaker\n",
    "\n",
    "# Sagemaker Session\n",
    "sagemaker_session = sagemaker.Session()\n",
    "\n",
    "#Execution Role\n",
    "role = sagemaker.get_execution_role()\n",
    "\n",
    "# print(role)\n"
   ]
  },
  {
   "cell_type": "code",
   "execution_count": 88,
   "metadata": {},
   "outputs": [],
   "source": [
    "y_train = y_train[:,0]"
   ]
  },
  {
   "cell_type": "code",
   "execution_count": 89,
   "metadata": {},
   "outputs": [
    {
     "data": {
      "text/plain": [
       "numpy.ndarray"
      ]
     },
     "execution_count": 89,
     "metadata": {},
     "output_type": "execute_result"
    }
   ],
   "source": [
    "type(y_train)"
   ]
  },
  {
   "cell_type": "code",
   "execution_count": 40,
   "metadata": {},
   "outputs": [
    {
     "data": {
      "text/plain": [
       "(26,)"
      ]
     },
     "execution_count": 40,
     "metadata": {},
     "output_type": "execute_result"
    }
   ],
   "source": [
    "y_train.shape"
   ]
  },
  {
   "cell_type": "code",
   "execution_count": 90,
   "metadata": {},
   "outputs": [
    {
     "data": {
      "text/plain": [
       "0"
      ]
     },
     "execution_count": 90,
     "metadata": {},
     "output_type": "execute_result"
    }
   ],
   "source": [
    "# Converting input into supported format\n",
    "import io\n",
    "import sagemaker.amazon.common as smac\n",
    "\n",
    "buf = io.BytesIO()\n",
    "smac.write_numpy_to_dense_tensor(buf, (X_train), (y_train))\n",
    "buf.seek(0)"
   ]
  },
  {
   "cell_type": "code",
   "execution_count": 93,
   "metadata": {},
   "outputs": [
    {
     "ename": "ValueError",
     "evalue": "I/O operation on closed file.",
     "output_type": "error",
     "traceback": [
      "\u001b[0;31m---------------------------------------------------------------------------\u001b[0m",
      "\u001b[0;31mValueError\u001b[0m                                Traceback (most recent call last)",
      "\u001b[0;32m<ipython-input-93-e5fe726505df>\u001b[0m in \u001b[0;36m<module>\u001b[0;34m\u001b[0m\n\u001b[1;32m      6\u001b[0m \u001b[0mkey\u001b[0m \u001b[0;34m=\u001b[0m \u001b[0;34m'linear-train-data'\u001b[0m\u001b[0;34m\u001b[0m\u001b[0;34m\u001b[0m\u001b[0m\n\u001b[1;32m      7\u001b[0m \u001b[0;34m\u001b[0m\u001b[0m\n\u001b[0;32m----> 8\u001b[0;31m \u001b[0mboto3\u001b[0m\u001b[0;34m.\u001b[0m\u001b[0mresource\u001b[0m\u001b[0;34m(\u001b[0m\u001b[0;34m's3'\u001b[0m\u001b[0;34m)\u001b[0m\u001b[0;34m.\u001b[0m\u001b[0mBucket\u001b[0m\u001b[0;34m(\u001b[0m\u001b[0mbucket\u001b[0m\u001b[0;34m)\u001b[0m\u001b[0;34m.\u001b[0m\u001b[0mObject\u001b[0m\u001b[0;34m(\u001b[0m\u001b[0mos\u001b[0m\u001b[0;34m.\u001b[0m\u001b[0mpath\u001b[0m\u001b[0;34m.\u001b[0m\u001b[0mjoin\u001b[0m\u001b[0;34m(\u001b[0m\u001b[0mprefix\u001b[0m\u001b[0;34m,\u001b[0m \u001b[0;34m'train'\u001b[0m\u001b[0;34m,\u001b[0m \u001b[0mkey\u001b[0m\u001b[0;34m)\u001b[0m\u001b[0;34m)\u001b[0m\u001b[0;34m.\u001b[0m\u001b[0mupload_fileobj\u001b[0m\u001b[0;34m(\u001b[0m\u001b[0mbuf\u001b[0m\u001b[0;34m)\u001b[0m\u001b[0;34m\u001b[0m\u001b[0;34m\u001b[0m\u001b[0m\n\u001b[0m\u001b[1;32m      9\u001b[0m \u001b[0;34m\u001b[0m\u001b[0m\n\u001b[1;32m     10\u001b[0m \u001b[0moutput_location\u001b[0m \u001b[0;34m=\u001b[0m \u001b[0;34m's3://{}/{}/output'\u001b[0m\u001b[0;34m.\u001b[0m\u001b[0mformat\u001b[0m\u001b[0;34m(\u001b[0m\u001b[0mbucket\u001b[0m\u001b[0;34m,\u001b[0m\u001b[0mprefix\u001b[0m\u001b[0;34m)\u001b[0m\u001b[0;34m\u001b[0m\u001b[0;34m\u001b[0m\u001b[0m\n",
      "\u001b[0;32m/opt/conda/lib/python3.7/site-packages/boto3/s3/inject.py\u001b[0m in \u001b[0;36mobject_upload_fileobj\u001b[0;34m(self, Fileobj, ExtraArgs, Callback, Config)\u001b[0m\n\u001b[1;32m    620\u001b[0m     return self.meta.client.upload_fileobj(\n\u001b[1;32m    621\u001b[0m         \u001b[0mFileobj\u001b[0m\u001b[0;34m=\u001b[0m\u001b[0mFileobj\u001b[0m\u001b[0;34m,\u001b[0m \u001b[0mBucket\u001b[0m\u001b[0;34m=\u001b[0m\u001b[0mself\u001b[0m\u001b[0;34m.\u001b[0m\u001b[0mbucket_name\u001b[0m\u001b[0;34m,\u001b[0m \u001b[0mKey\u001b[0m\u001b[0;34m=\u001b[0m\u001b[0mself\u001b[0m\u001b[0;34m.\u001b[0m\u001b[0mkey\u001b[0m\u001b[0;34m,\u001b[0m\u001b[0;34m\u001b[0m\u001b[0;34m\u001b[0m\u001b[0m\n\u001b[0;32m--> 622\u001b[0;31m         ExtraArgs=ExtraArgs, Callback=Callback, Config=Config)\n\u001b[0m\u001b[1;32m    623\u001b[0m \u001b[0;34m\u001b[0m\u001b[0m\n\u001b[1;32m    624\u001b[0m \u001b[0;34m\u001b[0m\u001b[0m\n",
      "\u001b[0;32m/opt/conda/lib/python3.7/site-packages/boto3/s3/inject.py\u001b[0m in \u001b[0;36mupload_fileobj\u001b[0;34m(self, Fileobj, Bucket, Key, ExtraArgs, Callback, Config)\u001b[0m\n\u001b[1;32m    538\u001b[0m             \u001b[0mfileobj\u001b[0m\u001b[0;34m=\u001b[0m\u001b[0mFileobj\u001b[0m\u001b[0;34m,\u001b[0m \u001b[0mbucket\u001b[0m\u001b[0;34m=\u001b[0m\u001b[0mBucket\u001b[0m\u001b[0;34m,\u001b[0m \u001b[0mkey\u001b[0m\u001b[0;34m=\u001b[0m\u001b[0mKey\u001b[0m\u001b[0;34m,\u001b[0m\u001b[0;34m\u001b[0m\u001b[0;34m\u001b[0m\u001b[0m\n\u001b[1;32m    539\u001b[0m             extra_args=ExtraArgs, subscribers=subscribers)\n\u001b[0;32m--> 540\u001b[0;31m         \u001b[0;32mreturn\u001b[0m \u001b[0mfuture\u001b[0m\u001b[0;34m.\u001b[0m\u001b[0mresult\u001b[0m\u001b[0;34m(\u001b[0m\u001b[0;34m)\u001b[0m\u001b[0;34m\u001b[0m\u001b[0;34m\u001b[0m\u001b[0m\n\u001b[0m\u001b[1;32m    541\u001b[0m \u001b[0;34m\u001b[0m\u001b[0m\n\u001b[1;32m    542\u001b[0m \u001b[0;34m\u001b[0m\u001b[0m\n",
      "\u001b[0;32m/opt/conda/lib/python3.7/site-packages/s3transfer/futures.py\u001b[0m in \u001b[0;36mresult\u001b[0;34m(self)\u001b[0m\n\u001b[1;32m    104\u001b[0m             \u001b[0;31m# however if a KeyboardInterrupt is raised we want want to exit\u001b[0m\u001b[0;34m\u001b[0m\u001b[0;34m\u001b[0m\u001b[0;34m\u001b[0m\u001b[0m\n\u001b[1;32m    105\u001b[0m             \u001b[0;31m# out of this and propogate the exception.\u001b[0m\u001b[0;34m\u001b[0m\u001b[0;34m\u001b[0m\u001b[0;34m\u001b[0m\u001b[0m\n\u001b[0;32m--> 106\u001b[0;31m             \u001b[0;32mreturn\u001b[0m \u001b[0mself\u001b[0m\u001b[0;34m.\u001b[0m\u001b[0m_coordinator\u001b[0m\u001b[0;34m.\u001b[0m\u001b[0mresult\u001b[0m\u001b[0;34m(\u001b[0m\u001b[0;34m)\u001b[0m\u001b[0;34m\u001b[0m\u001b[0;34m\u001b[0m\u001b[0m\n\u001b[0m\u001b[1;32m    107\u001b[0m         \u001b[0;32mexcept\u001b[0m \u001b[0mKeyboardInterrupt\u001b[0m \u001b[0;32mas\u001b[0m \u001b[0me\u001b[0m\u001b[0;34m:\u001b[0m\u001b[0;34m\u001b[0m\u001b[0;34m\u001b[0m\u001b[0m\n\u001b[1;32m    108\u001b[0m             \u001b[0mself\u001b[0m\u001b[0;34m.\u001b[0m\u001b[0mcancel\u001b[0m\u001b[0;34m(\u001b[0m\u001b[0;34m)\u001b[0m\u001b[0;34m\u001b[0m\u001b[0;34m\u001b[0m\u001b[0m\n",
      "\u001b[0;32m/opt/conda/lib/python3.7/site-packages/s3transfer/futures.py\u001b[0m in \u001b[0;36mresult\u001b[0;34m(self)\u001b[0m\n\u001b[1;32m    263\u001b[0m         \u001b[0;31m# final result.\u001b[0m\u001b[0;34m\u001b[0m\u001b[0;34m\u001b[0m\u001b[0;34m\u001b[0m\u001b[0m\n\u001b[1;32m    264\u001b[0m         \u001b[0;32mif\u001b[0m \u001b[0mself\u001b[0m\u001b[0;34m.\u001b[0m\u001b[0m_exception\u001b[0m\u001b[0;34m:\u001b[0m\u001b[0;34m\u001b[0m\u001b[0;34m\u001b[0m\u001b[0m\n\u001b[0;32m--> 265\u001b[0;31m             \u001b[0;32mraise\u001b[0m \u001b[0mself\u001b[0m\u001b[0;34m.\u001b[0m\u001b[0m_exception\u001b[0m\u001b[0;34m\u001b[0m\u001b[0;34m\u001b[0m\u001b[0m\n\u001b[0m\u001b[1;32m    266\u001b[0m         \u001b[0;32mreturn\u001b[0m \u001b[0mself\u001b[0m\u001b[0;34m.\u001b[0m\u001b[0m_result\u001b[0m\u001b[0;34m\u001b[0m\u001b[0;34m\u001b[0m\u001b[0m\n\u001b[1;32m    267\u001b[0m \u001b[0;34m\u001b[0m\u001b[0m\n",
      "\u001b[0;32m/opt/conda/lib/python3.7/site-packages/s3transfer/tasks.py\u001b[0m in \u001b[0;36m_main\u001b[0;34m(self, transfer_future, **kwargs)\u001b[0m\n\u001b[1;32m    253\u001b[0m             \u001b[0;31m# Call the submit method to start submitting tasks to execute the\u001b[0m\u001b[0;34m\u001b[0m\u001b[0;34m\u001b[0m\u001b[0;34m\u001b[0m\u001b[0m\n\u001b[1;32m    254\u001b[0m             \u001b[0;31m# transfer.\u001b[0m\u001b[0;34m\u001b[0m\u001b[0;34m\u001b[0m\u001b[0;34m\u001b[0m\u001b[0m\n\u001b[0;32m--> 255\u001b[0;31m             \u001b[0mself\u001b[0m\u001b[0;34m.\u001b[0m\u001b[0m_submit\u001b[0m\u001b[0;34m(\u001b[0m\u001b[0mtransfer_future\u001b[0m\u001b[0;34m=\u001b[0m\u001b[0mtransfer_future\u001b[0m\u001b[0;34m,\u001b[0m \u001b[0;34m**\u001b[0m\u001b[0mkwargs\u001b[0m\u001b[0;34m)\u001b[0m\u001b[0;34m\u001b[0m\u001b[0;34m\u001b[0m\u001b[0m\n\u001b[0m\u001b[1;32m    256\u001b[0m         \u001b[0;32mexcept\u001b[0m \u001b[0mBaseException\u001b[0m \u001b[0;32mas\u001b[0m \u001b[0me\u001b[0m\u001b[0;34m:\u001b[0m\u001b[0;34m\u001b[0m\u001b[0;34m\u001b[0m\u001b[0m\n\u001b[1;32m    257\u001b[0m             \u001b[0;31m# If there was an exception raised during the submission of task\u001b[0m\u001b[0;34m\u001b[0m\u001b[0;34m\u001b[0m\u001b[0;34m\u001b[0m\u001b[0m\n",
      "\u001b[0;32m/opt/conda/lib/python3.7/site-packages/s3transfer/upload.py\u001b[0m in \u001b[0;36m_submit\u001b[0;34m(self, client, config, osutil, request_executor, transfer_future, bandwidth_limiter)\u001b[0m\n\u001b[1;32m    544\u001b[0m         \"\"\"\n\u001b[1;32m    545\u001b[0m         upload_input_manager = self._get_upload_input_manager_cls(\n\u001b[0;32m--> 546\u001b[0;31m             \u001b[0mtransfer_future\u001b[0m\u001b[0;34m)\u001b[0m\u001b[0;34m(\u001b[0m\u001b[0;34m\u001b[0m\u001b[0;34m\u001b[0m\u001b[0m\n\u001b[0m\u001b[1;32m    547\u001b[0m                 osutil, self._transfer_coordinator, bandwidth_limiter)\n\u001b[1;32m    548\u001b[0m \u001b[0;34m\u001b[0m\u001b[0m\n",
      "\u001b[0;32m/opt/conda/lib/python3.7/site-packages/s3transfer/upload.py\u001b[0m in \u001b[0;36m_get_upload_input_manager_cls\u001b[0;34m(self, transfer_future)\u001b[0m\n\u001b[1;32m    517\u001b[0m         \u001b[0mfileobj\u001b[0m \u001b[0;34m=\u001b[0m \u001b[0mtransfer_future\u001b[0m\u001b[0;34m.\u001b[0m\u001b[0mmeta\u001b[0m\u001b[0;34m.\u001b[0m\u001b[0mcall_args\u001b[0m\u001b[0;34m.\u001b[0m\u001b[0mfileobj\u001b[0m\u001b[0;34m\u001b[0m\u001b[0;34m\u001b[0m\u001b[0m\n\u001b[1;32m    518\u001b[0m         \u001b[0;32mfor\u001b[0m \u001b[0mupload_manager_cls\u001b[0m \u001b[0;32min\u001b[0m \u001b[0mupload_manager_resolver_chain\u001b[0m\u001b[0;34m:\u001b[0m\u001b[0;34m\u001b[0m\u001b[0;34m\u001b[0m\u001b[0m\n\u001b[0;32m--> 519\u001b[0;31m             \u001b[0;32mif\u001b[0m \u001b[0mupload_manager_cls\u001b[0m\u001b[0;34m.\u001b[0m\u001b[0mis_compatible\u001b[0m\u001b[0;34m(\u001b[0m\u001b[0mfileobj\u001b[0m\u001b[0;34m)\u001b[0m\u001b[0;34m:\u001b[0m\u001b[0;34m\u001b[0m\u001b[0;34m\u001b[0m\u001b[0m\n\u001b[0m\u001b[1;32m    520\u001b[0m                 \u001b[0;32mreturn\u001b[0m \u001b[0mupload_manager_cls\u001b[0m\u001b[0;34m\u001b[0m\u001b[0;34m\u001b[0m\u001b[0m\n\u001b[1;32m    521\u001b[0m         raise RuntimeError(\n",
      "\u001b[0;32m/opt/conda/lib/python3.7/site-packages/s3transfer/upload.py\u001b[0m in \u001b[0;36mis_compatible\u001b[0;34m(cls, upload_source)\u001b[0m\n\u001b[1;32m    308\u001b[0m     \u001b[0;34m@\u001b[0m\u001b[0mclassmethod\u001b[0m\u001b[0;34m\u001b[0m\u001b[0;34m\u001b[0m\u001b[0m\n\u001b[1;32m    309\u001b[0m     \u001b[0;32mdef\u001b[0m \u001b[0mis_compatible\u001b[0m\u001b[0;34m(\u001b[0m\u001b[0mcls\u001b[0m\u001b[0;34m,\u001b[0m \u001b[0mupload_source\u001b[0m\u001b[0;34m)\u001b[0m\u001b[0;34m:\u001b[0m\u001b[0;34m\u001b[0m\u001b[0;34m\u001b[0m\u001b[0m\n\u001b[0;32m--> 310\u001b[0;31m         \u001b[0;32mreturn\u001b[0m \u001b[0mreadable\u001b[0m\u001b[0;34m(\u001b[0m\u001b[0mupload_source\u001b[0m\u001b[0;34m)\u001b[0m \u001b[0;32mand\u001b[0m \u001b[0mseekable\u001b[0m\u001b[0;34m(\u001b[0m\u001b[0mupload_source\u001b[0m\u001b[0;34m)\u001b[0m\u001b[0;34m\u001b[0m\u001b[0;34m\u001b[0m\u001b[0m\n\u001b[0m\u001b[1;32m    311\u001b[0m \u001b[0;34m\u001b[0m\u001b[0m\n\u001b[1;32m    312\u001b[0m     \u001b[0;32mdef\u001b[0m \u001b[0mstores_body_in_memory\u001b[0m\u001b[0;34m(\u001b[0m\u001b[0mself\u001b[0m\u001b[0;34m,\u001b[0m \u001b[0moperation_name\u001b[0m\u001b[0;34m)\u001b[0m\u001b[0;34m:\u001b[0m\u001b[0;34m\u001b[0m\u001b[0;34m\u001b[0m\u001b[0m\n",
      "\u001b[0;32m/opt/conda/lib/python3.7/site-packages/s3transfer/compat.py\u001b[0m in \u001b[0;36mreadable\u001b[0;34m(fileobj)\u001b[0m\n\u001b[1;32m     87\u001b[0m     \"\"\"\n\u001b[1;32m     88\u001b[0m     \u001b[0;32mif\u001b[0m \u001b[0mhasattr\u001b[0m\u001b[0;34m(\u001b[0m\u001b[0mfileobj\u001b[0m\u001b[0;34m,\u001b[0m \u001b[0;34m'readable'\u001b[0m\u001b[0;34m)\u001b[0m\u001b[0;34m:\u001b[0m\u001b[0;34m\u001b[0m\u001b[0;34m\u001b[0m\u001b[0m\n\u001b[0;32m---> 89\u001b[0;31m         \u001b[0;32mreturn\u001b[0m \u001b[0mfileobj\u001b[0m\u001b[0;34m.\u001b[0m\u001b[0mreadable\u001b[0m\u001b[0;34m(\u001b[0m\u001b[0;34m)\u001b[0m\u001b[0;34m\u001b[0m\u001b[0;34m\u001b[0m\u001b[0m\n\u001b[0m\u001b[1;32m     90\u001b[0m \u001b[0;34m\u001b[0m\u001b[0m\n\u001b[1;32m     91\u001b[0m     \u001b[0;32mreturn\u001b[0m \u001b[0mhasattr\u001b[0m\u001b[0;34m(\u001b[0m\u001b[0mfileobj\u001b[0m\u001b[0;34m,\u001b[0m \u001b[0;34m'read'\u001b[0m\u001b[0;34m)\u001b[0m\u001b[0;34m\u001b[0m\u001b[0;34m\u001b[0m\u001b[0m\n",
      "\u001b[0;31mValueError\u001b[0m: I/O operation on closed file."
     ]
    }
   ],
   "source": [
    "# Uploading data to S3\n",
    "import os\n",
    "\n",
    "bucket = 'sagemaker-learn111'\n",
    "prefix = 'linear-learner'\n",
    "key = 'linear-train-data'\n",
    "\n",
    "boto3.resource('s3').Bucket(bucket).Object(os.path.join(prefix, 'train', key)).upload_fileobj(buf)"
   ]
  },
  {
   "cell_type": "code",
   "execution_count": 95,
   "metadata": {},
   "outputs": [
    {
     "name": "stdout",
     "output_type": "stream",
     "text": [
      "s3://sagemaker-learn111/linear-learner/output\n"
     ]
    }
   ],
   "source": [
    "output_location = 's3://{}/{}/output'.format(bucket,prefix)\n",
    "print(output_location)"
   ]
  },
  {
   "cell_type": "code",
   "execution_count": 99,
   "metadata": {},
   "outputs": [
    {
     "name": "stderr",
     "output_type": "stream",
     "text": [
      "The method get_image_uri has been renamed in sagemaker>=2.\n",
      "See: https://sagemaker.readthedocs.io/en/stable/v2.html for details.\n",
      "Defaulting to the only supported framework/algorithm version: 1. Ignoring framework/algorithm version: 1.\n"
     ]
    }
   ],
   "source": [
    "# Container Image\n",
    "from sagemaker.amazon.amazon_estimator import get_image_uri\n",
    "container = get_image_uri(boto3.Session().region_name, 'linear-learner')"
   ]
  },
  {
   "cell_type": "code",
   "execution_count": 106,
   "metadata": {},
   "outputs": [
    {
     "name": "stderr",
     "output_type": "stream",
     "text": [
      "train_instance_count has been renamed in sagemaker>=2.\n",
      "See: https://sagemaker.readthedocs.io/en/stable/v2.html for details.\n",
      "train_instance_type has been renamed in sagemaker>=2.\n",
      "See: https://sagemaker.readthedocs.io/en/stable/v2.html for details.\n"
     ]
    }
   ],
   "source": [
    "linear = sagemaker.estimator.Estimator(container, role, train_instance_count=1,train_instance_type='ml.c4.xlarge',output_path=output_location,sagemaker_session=sagemaker_session)\n",
    "\n",
    "linear.set_hyperparameters(feature_dim=1, predictor_type='regressor', mini_batch_size=5, epochs=50, num_models=5, loss='absolute_loss')"
   ]
  },
  {
   "cell_type": "code",
   "execution_count": 107,
   "metadata": {},
   "outputs": [
    {
     "name": "stdout",
     "output_type": "stream",
     "text": [
      "2021-11-18 06:18:11 Starting - Starting the training job...\n",
      "2021-11-18 06:18:25 Starting - Launching requested ML instancesProfilerReport-1637216291: InProgress\n",
      "......\n",
      "2021-11-18 06:19:27 Starting - Preparing the instances for training............\n",
      "2021-11-18 06:21:39 Downloading - Downloading input data\n",
      "2021-11-18 06:21:39 Training - Downloading the training image...\n",
      "2021-11-18 06:22:11 Uploading - Uploading generated training model\u001b[34mDocker entrypoint called with argument(s): train\u001b[0m\n",
      "\u001b[34mRunning default environment configuration script\u001b[0m\n",
      "\u001b[34m[11/18/2021 06:22:07 INFO 140709504116544] Reading default configuration from /opt/amazon/lib/python3.7/site-packages/algorithm/resources/default-input.json: {'mini_batch_size': '1000', 'epochs': '15', 'feature_dim': 'auto', 'use_bias': 'true', 'binary_classifier_model_selection_criteria': 'accuracy', 'f_beta': '1.0', 'target_recall': '0.8', 'target_precision': '0.8', 'num_models': 'auto', 'num_calibration_samples': '10000000', 'init_method': 'uniform', 'init_scale': '0.07', 'init_sigma': '0.01', 'init_bias': '0.0', 'optimizer': 'auto', 'loss': 'auto', 'margin': '1.0', 'quantile': '0.5', 'loss_insensitivity': '0.01', 'huber_delta': '1.0', 'num_classes': '1', 'accuracy_top_k': '3', 'wd': 'auto', 'l1': 'auto', 'momentum': 'auto', 'learning_rate': 'auto', 'beta_1': 'auto', 'beta_2': 'auto', 'bias_lr_mult': 'auto', 'bias_wd_mult': 'auto', 'use_lr_scheduler': 'true', 'lr_scheduler_step': 'auto', 'lr_scheduler_factor': 'auto', 'lr_scheduler_minimum_lr': 'auto', 'positive_example_weight_mult': '1.0', 'balance_multiclass_weights': 'false', 'normalize_data': 'true', 'normalize_label': 'auto', 'unbias_data': 'auto', 'unbias_label': 'auto', 'num_point_for_scaler': '10000', '_kvstore': 'auto', '_num_gpus': 'auto', '_num_kv_servers': 'auto', '_log_level': 'info', '_tuning_objective_metric': '', 'early_stopping_patience': '3', 'early_stopping_tolerance': '0.001', '_enable_profiler': 'false'}\u001b[0m\n",
      "\u001b[34m[11/18/2021 06:22:07 INFO 140709504116544] Merging with provided configuration from /opt/ml/input/config/hyperparameters.json: {'loss': 'absolute_loss', 'feature_dim': '1', 'num_models': '5', 'predictor_type': 'regressor', 'epochs': '50', 'mini_batch_size': '5'}\u001b[0m\n",
      "\u001b[34m[11/18/2021 06:22:07 INFO 140709504116544] Final configuration: {'mini_batch_size': '5', 'epochs': '50', 'feature_dim': '1', 'use_bias': 'true', 'binary_classifier_model_selection_criteria': 'accuracy', 'f_beta': '1.0', 'target_recall': '0.8', 'target_precision': '0.8', 'num_models': '5', 'num_calibration_samples': '10000000', 'init_method': 'uniform', 'init_scale': '0.07', 'init_sigma': '0.01', 'init_bias': '0.0', 'optimizer': 'auto', 'loss': 'absolute_loss', 'margin': '1.0', 'quantile': '0.5', 'loss_insensitivity': '0.01', 'huber_delta': '1.0', 'num_classes': '1', 'accuracy_top_k': '3', 'wd': 'auto', 'l1': 'auto', 'momentum': 'auto', 'learning_rate': 'auto', 'beta_1': 'auto', 'beta_2': 'auto', 'bias_lr_mult': 'auto', 'bias_wd_mult': 'auto', 'use_lr_scheduler': 'true', 'lr_scheduler_step': 'auto', 'lr_scheduler_factor': 'auto', 'lr_scheduler_minimum_lr': 'auto', 'positive_example_weight_mult': '1.0', 'balance_multiclass_weights': 'false', 'normalize_data': 'true', 'normalize_label': 'auto', 'unbias_data': 'auto', 'unbias_label': 'auto', 'num_point_for_scaler': '10000', '_kvstore': 'auto', '_num_gpus': 'auto', '_num_kv_servers': 'auto', '_log_level': 'info', '_tuning_objective_metric': '', 'early_stopping_patience': '3', 'early_stopping_tolerance': '0.001', '_enable_profiler': 'false', 'predictor_type': 'regressor'}\u001b[0m\n",
      "\u001b[34m[11/18/2021 06:22:07 WARNING 140709504116544] Loggers have already been setup.\u001b[0m\n",
      "\u001b[34mProcess 1 is a worker.\u001b[0m\n",
      "\u001b[34m[11/18/2021 06:22:07 INFO 140709504116544] Using default worker.\u001b[0m\n",
      "\u001b[34m[11/18/2021 06:22:07 INFO 140709504116544] Checkpoint loading and saving are disabled.\u001b[0m\n",
      "\u001b[34m[2021-11-18 06:22:07.416] [tensorio] [info] epoch_stats={\"data_pipeline\": \"/opt/ml/input/data/train\", \"epoch\": 0, \"duration\": 14, \"num_examples\": 1, \"num_bytes\": 240}\u001b[0m\n",
      "\u001b[34m[11/18/2021 06:22:07 INFO 140709504116544] Create Store: local\u001b[0m\n",
      "\u001b[34m[2021-11-18 06:22:07.483] [tensorio] [info] epoch_stats={\"data_pipeline\": \"/opt/ml/input/data/train\", \"epoch\": 1, \"duration\": 67, \"num_examples\": 6, \"num_bytes\": 1248}\u001b[0m\n",
      "\u001b[34m[11/18/2021 06:22:07 INFO 140709504116544] Scaler algorithm parameters\n",
      " <algorithm.scaler.ScalerAlgorithmStable object at 0x7ff91b3fc3d0>\u001b[0m\n",
      "\u001b[34m[11/18/2021 06:22:07 INFO 140709504116544] Scaling model computed with parameters:\n",
      " {'stdev_label': \u001b[0m\n",
      "\u001b[34m[30463.723]\u001b[0m\n",
      "\u001b[34m<NDArray 1 @cpu(0)>, 'stdev_weight': \u001b[0m\n",
      "\u001b[34m[3.378866]\u001b[0m\n",
      "\u001b[34m<NDArray 1 @cpu(0)>, 'mean_label': \u001b[0m\n",
      "\u001b[34m[83714.086]\u001b[0m\n",
      "\u001b[34m<NDArray 1 @cpu(0)>, 'mean_weight': \u001b[0m\n",
      "\u001b[34m[6.3080006]\u001b[0m\n",
      "\u001b[34m<NDArray 1 @cpu(0)>}\u001b[0m\n",
      "\u001b[34m[11/18/2021 06:22:07 INFO 140709504116544] nvidia-smi: took 0.031 seconds to run.\u001b[0m\n",
      "\u001b[34m[11/18/2021 06:22:07 INFO 140709504116544] nvidia-smi identified 0 GPUs.\u001b[0m\n",
      "\u001b[34m[11/18/2021 06:22:07 INFO 140709504116544] Number of GPUs being used: 0\u001b[0m\n",
      "\u001b[34m#metrics {\"StartTime\": 1637216527.534725, \"EndTime\": 1637216527.5347564, \"Dimensions\": {\"Algorithm\": \"Linear Learner\", \"Host\": \"algo-1\", \"Operation\": \"training\", \"Meta\": \"init_train_data_iter\"}, \"Metrics\": {\"Total Records Seen\": {\"sum\": 31.0, \"count\": 1, \"min\": 31, \"max\": 31}, \"Total Batches Seen\": {\"sum\": 7.0, \"count\": 1, \"min\": 7, \"max\": 7}, \"Max Records Seen Between Resets\": {\"sum\": 26.0, \"count\": 1, \"min\": 26, \"max\": 26}, \"Max Batches Seen Between Resets\": {\"sum\": 6.0, \"count\": 1, \"min\": 6, \"max\": 6}, \"Reset Count\": {\"sum\": 2.0, \"count\": 1, \"min\": 2, \"max\": 2}, \"Number of Records Since Last Reset\": {\"sum\": 0.0, \"count\": 1, \"min\": 0, \"max\": 0}, \"Number of Batches Since Last Reset\": {\"sum\": 0.0, \"count\": 1, \"min\": 0, \"max\": 0}}}\u001b[0m\n",
      "\u001b[34m[2021-11-18 06:22:07.585] [tensorio] [info] epoch_stats={\"data_pipeline\": \"/opt/ml/input/data/train\", \"epoch\": 4, \"duration\": 50, \"num_examples\": 6, \"num_bytes\": 1248}\u001b[0m\n",
      "\u001b[34m#metrics {\"StartTime\": 1637216527.5859663, \"EndTime\": 1637216527.5860105, \"Dimensions\": {\"Algorithm\": \"Linear Learner\", \"Host\": \"algo-1\", \"Operation\": \"training\", \"epoch\": 0, \"model\": 0}, \"Metrics\": {\"train_absolute_loss_objective\": {\"sum\": 0.8912076950073242, \"count\": 1, \"min\": 0.8912076950073242, \"max\": 0.8912076950073242}}}\u001b[0m\n",
      "\u001b[34m#metrics {\"StartTime\": 1637216527.5860832, \"EndTime\": 1637216527.586097, \"Dimensions\": {\"Algorithm\": \"Linear Learner\", \"Host\": \"algo-1\", \"Operation\": \"training\", \"epoch\": 0, \"model\": 1}, \"Metrics\": {\"train_absolute_loss_objective\": {\"sum\": 0.8860404682159424, \"count\": 1, \"min\": 0.8860404682159424, \"max\": 0.8860404682159424}}}\u001b[0m\n",
      "\u001b[34m#metrics {\"StartTime\": 1637216527.5861351, \"EndTime\": 1637216527.5861452, \"Dimensions\": {\"Algorithm\": \"Linear Learner\", \"Host\": \"algo-1\", \"Operation\": \"training\", \"epoch\": 0, \"model\": 2}, \"Metrics\": {\"train_absolute_loss_objective\": {\"sum\": 0.8716827869415283, \"count\": 1, \"min\": 0.8716827869415283, \"max\": 0.8716827869415283}}}\u001b[0m\n",
      "\u001b[34m#metrics {\"StartTime\": 1637216527.5861795, \"EndTime\": 1637216527.5861893, \"Dimensions\": {\"Algorithm\": \"Linear Learner\", \"Host\": \"algo-1\", \"Operation\": \"training\", \"epoch\": 0, \"model\": 3}, \"Metrics\": {\"train_absolute_loss_objective\": {\"sum\": 0.8565350818634033, \"count\": 1, \"min\": 0.8565350818634033, \"max\": 0.8565350818634033}}}\u001b[0m\n",
      "\u001b[34m#metrics {\"StartTime\": 1637216527.5862222, \"EndTime\": 1637216527.5862315, \"Dimensions\": {\"Algorithm\": \"Linear Learner\", \"Host\": \"algo-1\", \"Operation\": \"training\", \"epoch\": 0, \"model\": 4}, \"Metrics\": {\"train_absolute_loss_objective\": {\"sum\": 0.815475959777832, \"count\": 1, \"min\": 0.815475959777832, \"max\": 0.815475959777832}}}\u001b[0m\n",
      "\u001b[34m[11/18/2021 06:22:07 INFO 140709504116544] #quality_metric: host=algo-1, epoch=0, train absolute_loss_objective <loss>=0.8912076950073242\u001b[0m\n",
      "\u001b[34m[11/18/2021 06:22:07 INFO 140709504116544] #early_stopping_criteria_metric: host=algo-1, epoch=0, criteria=absolute_loss_objective, value=0.815475959777832\u001b[0m\n",
      "\u001b[34m[11/18/2021 06:22:07 INFO 140709504116544] Epoch 0: Loss improved. Updating best model\u001b[0m\n",
      "\u001b[34m[11/18/2021 06:22:07 INFO 140709504116544] Saving model for epoch: 0\u001b[0m\n",
      "\u001b[34m[11/18/2021 06:22:07 INFO 140709504116544] Saved checkpoint to \"/tmp/tmp9ro8rtz0/mx-mod-0000.params\"\u001b[0m\n",
      "\u001b[34m[11/18/2021 06:22:07 INFO 140709504116544] #progress_metric: host=algo-1, completed 2.0 % of epochs\u001b[0m\n",
      "\u001b[34m#metrics {\"StartTime\": 1637216527.5350206, \"EndTime\": 1637216527.6008363, \"Dimensions\": {\"Algorithm\": \"Linear Learner\", \"Host\": \"algo-1\", \"Operation\": \"training\", \"epoch\": 0, \"Meta\": \"training_data_iter\"}, \"Metrics\": {\"Total Records Seen\": {\"sum\": 57.0, \"count\": 1, \"min\": 57, \"max\": 57}, \"Total Batches Seen\": {\"sum\": 13.0, \"count\": 1, \"min\": 13, \"max\": 13}, \"Max Records Seen Between Resets\": {\"sum\": 26.0, \"count\": 1, \"min\": 26, \"max\": 26}, \"Max Batches Seen Between Resets\": {\"sum\": 6.0, \"count\": 1, \"min\": 6, \"max\": 6}, \"Reset Count\": {\"sum\": 3.0, \"count\": 1, \"min\": 3, \"max\": 3}, \"Number of Records Since Last Reset\": {\"sum\": 26.0, \"count\": 1, \"min\": 26, \"max\": 26}, \"Number of Batches Since Last Reset\": {\"sum\": 6.0, \"count\": 1, \"min\": 6, \"max\": 6}}}\u001b[0m\n",
      "\u001b[34m[11/18/2021 06:22:07 INFO 140709504116544] #throughput_metric: host=algo-1, train throughput=394.1544856202087 records/second\u001b[0m\n",
      "\u001b[34m[2021-11-18 06:22:07.622] [tensorio] [info] epoch_stats={\"data_pipeline\": \"/opt/ml/input/data/train\", \"epoch\": 6, \"duration\": 21, \"num_examples\": 6, \"num_bytes\": 1248}\u001b[0m\n",
      "\u001b[34m#metrics {\"StartTime\": 1637216527.6227207, \"EndTime\": 1637216527.6227643, \"Dimensions\": {\"Algorithm\": \"Linear Learner\", \"Host\": \"algo-1\", \"Operation\": \"training\", \"epoch\": 1, \"model\": 0}, \"Metrics\": {\"train_absolute_loss_objective\": {\"sum\": 0.861696605682373, \"count\": 1, \"min\": 0.861696605682373, \"max\": 0.861696605682373}}}\u001b[0m\n",
      "\u001b[34m#metrics {\"StartTime\": 1637216527.6228368, \"EndTime\": 1637216527.6228547, \"Dimensions\": {\"Algorithm\": \"Linear Learner\", \"Host\": \"algo-1\", \"Operation\": \"training\", \"epoch\": 1, \"model\": 1}, \"Metrics\": {\"train_absolute_loss_objective\": {\"sum\": 0.8565889072418212, \"count\": 1, \"min\": 0.8565889072418212, \"max\": 0.8565889072418212}}}\u001b[0m\n",
      "\u001b[34m#metrics {\"StartTime\": 1637216527.6229084, \"EndTime\": 1637216527.6229253, \"Dimensions\": {\"Algorithm\": \"Linear Learner\", \"Host\": \"algo-1\", \"Operation\": \"training\", \"epoch\": 1, \"model\": 2}, \"Metrics\": {\"train_absolute_loss_objective\": {\"sum\": 0.8423966884613037, \"count\": 1, \"min\": 0.8423966884613037, \"max\": 0.8423966884613037}}}\u001b[0m\n",
      "\u001b[34m#metrics {\"StartTime\": 1637216527.62298, \"EndTime\": 1637216527.6229973, \"Dimensions\": {\"Algorithm\": \"Linear Learner\", \"Host\": \"algo-1\", \"Operation\": \"training\", \"epoch\": 1, \"model\": 3}, \"Metrics\": {\"train_absolute_loss_objective\": {\"sum\": 0.82742356300354, \"count\": 1, \"min\": 0.82742356300354, \"max\": 0.82742356300354}}}\u001b[0m\n",
      "\u001b[34m#metrics {\"StartTime\": 1637216527.6230488, \"EndTime\": 1637216527.623065, \"Dimensions\": {\"Algorithm\": \"Linear Learner\", \"Host\": \"algo-1\", \"Operation\": \"training\", \"epoch\": 1, \"model\": 4}, \"Metrics\": {\"train_absolute_loss_objective\": {\"sum\": 0.49077951431274414, \"count\": 1, \"min\": 0.49077951431274414, \"max\": 0.49077951431274414}}}\u001b[0m\n",
      "\u001b[34m[11/18/2021 06:22:07 INFO 140709504116544] #quality_metric: host=algo-1, epoch=1, train absolute_loss_objective <loss>=0.861696605682373\u001b[0m\n",
      "\u001b[34m[11/18/2021 06:22:07 INFO 140709504116544] #early_stopping_criteria_metric: host=algo-1, epoch=1, criteria=absolute_loss_objective, value=0.49077951431274414\u001b[0m\n",
      "\u001b[34m[11/18/2021 06:22:07 INFO 140709504116544] Epoch 1: Loss improved. Updating best model\u001b[0m\n",
      "\u001b[34m[11/18/2021 06:22:07 INFO 140709504116544] Saving model for epoch: 1\u001b[0m\n",
      "\u001b[34m[11/18/2021 06:22:07 INFO 140709504116544] Saved checkpoint to \"/tmp/tmpu_v_3ibu/mx-mod-0000.params\"\u001b[0m\n",
      "\u001b[34m[11/18/2021 06:22:07 INFO 140709504116544] #progress_metric: host=algo-1, completed 4.0 % of epochs\u001b[0m\n",
      "\u001b[34m#metrics {\"StartTime\": 1637216527.6011567, \"EndTime\": 1637216527.6313524, \"Dimensions\": {\"Algorithm\": \"Linear Learner\", \"Host\": \"algo-1\", \"Operation\": \"training\", \"epoch\": 1, \"Meta\": \"training_data_iter\"}, \"Metrics\": {\"Total Records Seen\": {\"sum\": 83.0, \"count\": 1, \"min\": 83, \"max\": 83}, \"Total Batches Seen\": {\"sum\": 19.0, \"count\": 1, \"min\": 19, \"max\": 19}, \"Max Records Seen Between Resets\": {\"sum\": 26.0, \"count\": 1, \"min\": 26, \"max\": 26}, \"Max Batches Seen Between Resets\": {\"sum\": 6.0, \"count\": 1, \"min\": 6, \"max\": 6}, \"Reset Count\": {\"sum\": 4.0, \"count\": 1, \"min\": 4, \"max\": 4}, \"Number of Records Since Last Reset\": {\"sum\": 26.0, \"count\": 1, \"min\": 26, \"max\": 26}, \"Number of Batches Since Last Reset\": {\"sum\": 6.0, \"count\": 1, \"min\": 6, \"max\": 6}}}\u001b[0m\n",
      "\u001b[34m[11/18/2021 06:22:07 INFO 140709504116544] #throughput_metric: host=algo-1, train throughput=857.0096269460183 records/second\u001b[0m\n",
      "\u001b[34m[2021-11-18 06:22:07.653] [tensorio] [info] epoch_stats={\"data_pipeline\": \"/opt/ml/input/data/train\", \"epoch\": 8, \"duration\": 21, \"num_examples\": 6, \"num_bytes\": 1248}\u001b[0m\n",
      "\u001b[34m#metrics {\"StartTime\": 1637216527.6534326, \"EndTime\": 1637216527.653472, \"Dimensions\": {\"Algorithm\": \"Linear Learner\", \"Host\": \"algo-1\", \"Operation\": \"training\", \"epoch\": 2, \"model\": 0}, \"Metrics\": {\"train_absolute_loss_objective\": {\"sum\": 0.8408389186859131, \"count\": 1, \"min\": 0.8408389186859131, \"max\": 0.8408389186859131}}}\u001b[0m\n",
      "\u001b[34m#metrics {\"StartTime\": 1637216527.6535387, \"EndTime\": 1637216527.6535583, \"Dimensions\": {\"Algorithm\": \"Linear Learner\", \"Host\": \"algo-1\", \"Operation\": \"training\", \"epoch\": 2, \"model\": 1}, \"Metrics\": {\"train_absolute_loss_objective\": {\"sum\": 0.8356516933441163, \"count\": 1, \"min\": 0.8356516933441163, \"max\": 0.8356516933441163}}}\u001b[0m\n",
      "\u001b[34m#metrics {\"StartTime\": 1637216527.6536157, \"EndTime\": 1637216527.6536338, \"Dimensions\": {\"Algorithm\": \"Linear Learner\", \"Host\": \"algo-1\", \"Operation\": \"training\", \"epoch\": 2, \"model\": 2}, \"Metrics\": {\"train_absolute_loss_objective\": {\"sum\": 0.8215390110015869, \"count\": 1, \"min\": 0.8215390110015869, \"max\": 0.8215390110015869}}}\u001b[0m\n",
      "\u001b[34m#metrics {\"StartTime\": 1637216527.6536868, \"EndTime\": 1637216527.6537044, \"Dimensions\": {\"Algorithm\": \"Linear Learner\", \"Host\": \"algo-1\", \"Operation\": \"training\", \"epoch\": 2, \"model\": 3}, \"Metrics\": {\"train_absolute_loss_objective\": {\"sum\": 0.8064863300323486, \"count\": 1, \"min\": 0.8064863300323486, \"max\": 0.8064863300323486}}}\u001b[0m\n",
      "\u001b[34m#metrics {\"StartTime\": 1637216527.6537583, \"EndTime\": 1637216527.653774, \"Dimensions\": {\"Algorithm\": \"Linear Learner\", \"Host\": \"algo-1\", \"Operation\": \"training\", \"epoch\": 2, \"model\": 4}, \"Metrics\": {\"train_absolute_loss_objective\": {\"sum\": 0.41160916328430175, \"count\": 1, \"min\": 0.41160916328430175, \"max\": 0.41160916328430175}}}\u001b[0m\n",
      "\u001b[34m[11/18/2021 06:22:07 INFO 140709504116544] #quality_metric: host=algo-1, epoch=2, train absolute_loss_objective <loss>=0.8408389186859131\u001b[0m\n",
      "\u001b[34m[11/18/2021 06:22:07 INFO 140709504116544] #early_stopping_criteria_metric: host=algo-1, epoch=2, criteria=absolute_loss_objective, value=0.41160916328430175\u001b[0m\n",
      "\u001b[34m[11/18/2021 06:22:07 INFO 140709504116544] Epoch 2: Loss improved. Updating best model\u001b[0m\n",
      "\u001b[34m[11/18/2021 06:22:07 INFO 140709504116544] Saving model for epoch: 2\u001b[0m\n",
      "\u001b[34m[11/18/2021 06:22:07 INFO 140709504116544] Saved checkpoint to \"/tmp/tmpxelhpn43/mx-mod-0000.params\"\u001b[0m\n",
      "\u001b[34m[11/18/2021 06:22:07 INFO 140709504116544] #progress_metric: host=algo-1, completed 6.0 % of epochs\u001b[0m\n",
      "\u001b[34m#metrics {\"StartTime\": 1637216527.6316535, \"EndTime\": 1637216527.6628742, \"Dimensions\": {\"Algorithm\": \"Linear Learner\", \"Host\": \"algo-1\", \"Operation\": \"training\", \"epoch\": 2, \"Meta\": \"training_data_iter\"}, \"Metrics\": {\"Total Records Seen\": {\"sum\": 109.0, \"count\": 1, \"min\": 109, \"max\": 109}, \"Total Batches Seen\": {\"sum\": 25.0, \"count\": 1, \"min\": 25, \"max\": 25}, \"Max Records Seen Between Resets\": {\"sum\": 26.0, \"count\": 1, \"min\": 26, \"max\": 26}, \"Max Batches Seen Between Resets\": {\"sum\": 6.0, \"count\": 1, \"min\": 6, \"max\": 6}, \"Reset Count\": {\"sum\": 5.0, \"count\": 1, \"min\": 5, \"max\": 5}, \"Number of Records Since Last Reset\": {\"sum\": 26.0, \"count\": 1, \"min\": 26, \"max\": 26}, \"Number of Batches Since Last Reset\": {\"sum\": 6.0, \"count\": 1, \"min\": 6, \"max\": 6}}}\u001b[0m\n",
      "\u001b[34m[11/18/2021 06:22:07 INFO 140709504116544] #throughput_metric: host=algo-1, train throughput=829.2731268488171 records/second\u001b[0m\n",
      "\u001b[34m[2021-11-18 06:22:07.685] [tensorio] [info] epoch_stats={\"data_pipeline\": \"/opt/ml/input/data/train\", \"epoch\": 10, \"duration\": 22, \"num_examples\": 6, \"num_bytes\": 1248}\u001b[0m\n",
      "\u001b[34m#metrics {\"StartTime\": 1637216527.6855147, \"EndTime\": 1637216527.685555, \"Dimensions\": {\"Algorithm\": \"Linear Learner\", \"Host\": \"algo-1\", \"Operation\": \"training\", \"epoch\": 3, \"model\": 0}, \"Metrics\": {\"train_absolute_loss_objective\": {\"sum\": 0.820162696838379, \"count\": 1, \"min\": 0.820162696838379, \"max\": 0.820162696838379}}}\u001b[0m\n",
      "\u001b[34m#metrics {\"StartTime\": 1637216527.6856263, \"EndTime\": 1637216527.68564, \"Dimensions\": {\"Algorithm\": \"Linear Learner\", \"Host\": \"algo-1\", \"Operation\": \"training\", \"epoch\": 3, \"model\": 1}, \"Metrics\": {\"train_absolute_loss_objective\": {\"sum\": 0.8147666263580322, \"count\": 1, \"min\": 0.8147666263580322, \"max\": 0.8147666263580322}}}\u001b[0m\n",
      "\u001b[34m#metrics {\"StartTime\": 1637216527.68568, \"EndTime\": 1637216527.6856909, \"Dimensions\": {\"Algorithm\": \"Linear Learner\", \"Host\": \"algo-1\", \"Operation\": \"training\", \"epoch\": 3, \"model\": 2}, \"Metrics\": {\"train_absolute_loss_objective\": {\"sum\": 0.8008628082275391, \"count\": 1, \"min\": 0.8008628082275391, \"max\": 0.8008628082275391}}}\u001b[0m\n",
      "\u001b[34m#metrics {\"StartTime\": 1637216527.6857374, \"EndTime\": 1637216527.6857495, \"Dimensions\": {\"Algorithm\": \"Linear Learner\", \"Host\": \"algo-1\", \"Operation\": \"training\", \"epoch\": 3, \"model\": 3}, \"Metrics\": {\"train_absolute_loss_objective\": {\"sum\": 0.785601282119751, \"count\": 1, \"min\": 0.785601282119751, \"max\": 0.785601282119751}}}\u001b[0m\n",
      "\u001b[34m#metrics {\"StartTime\": 1637216527.685788, \"EndTime\": 1637216527.6858158, \"Dimensions\": {\"Algorithm\": \"Linear Learner\", \"Host\": \"algo-1\", \"Operation\": \"training\", \"epoch\": 3, \"model\": 4}, \"Metrics\": {\"train_absolute_loss_objective\": {\"sum\": 0.3763491153717041, \"count\": 1, \"min\": 0.3763491153717041, \"max\": 0.3763491153717041}}}\u001b[0m\n",
      "\u001b[34m[11/18/2021 06:22:07 INFO 140709504116544] #quality_metric: host=algo-1, epoch=3, train absolute_loss_objective <loss>=0.820162696838379\u001b[0m\n",
      "\u001b[34m[11/18/2021 06:22:07 INFO 140709504116544] #early_stopping_criteria_metric: host=algo-1, epoch=3, criteria=absolute_loss_objective, value=0.3763491153717041\u001b[0m\n",
      "\u001b[34m[11/18/2021 06:22:07 INFO 140709504116544] Epoch 3: Loss improved. Updating best model\u001b[0m\n",
      "\u001b[34m[11/18/2021 06:22:07 INFO 140709504116544] Saving model for epoch: 3\u001b[0m\n",
      "\u001b[34m[11/18/2021 06:22:07 INFO 140709504116544] Saved checkpoint to \"/tmp/tmp84x958va/mx-mod-0000.params\"\u001b[0m\n",
      "\u001b[34m[11/18/2021 06:22:07 INFO 140709504116544] #progress_metric: host=algo-1, completed 8.0 % of epochs\u001b[0m\n",
      "\u001b[34m#metrics {\"StartTime\": 1637216527.6631606, \"EndTime\": 1637216527.6927013, \"Dimensions\": {\"Algorithm\": \"Linear Learner\", \"Host\": \"algo-1\", \"Operation\": \"training\", \"epoch\": 3, \"Meta\": \"training_data_iter\"}, \"Metrics\": {\"Total Records Seen\": {\"sum\": 135.0, \"count\": 1, \"min\": 135, \"max\": 135}, \"Total Batches Seen\": {\"sum\": 31.0, \"count\": 1, \"min\": 31, \"max\": 31}, \"Max Records Seen Between Resets\": {\"sum\": 26.0, \"count\": 1, \"min\": 26, \"max\": 26}, \"Max Batches Seen Between Resets\": {\"sum\": 6.0, \"count\": 1, \"min\": 6, \"max\": 6}, \"Reset Count\": {\"sum\": 6.0, \"count\": 1, \"min\": 6, \"max\": 6}, \"Number of Records Since Last Reset\": {\"sum\": 26.0, \"count\": 1, \"min\": 26, \"max\": 26}, \"Number of Batches Since Last Reset\": {\"sum\": 6.0, \"count\": 1, \"min\": 6, \"max\": 6}}}\u001b[0m\n",
      "\u001b[34m[11/18/2021 06:22:07 INFO 140709504116544] #throughput_metric: host=algo-1, train throughput=876.2989891197789 records/second\u001b[0m\n",
      "\u001b[34m[2021-11-18 06:22:07.714] [tensorio] [info] epoch_stats={\"data_pipeline\": \"/opt/ml/input/data/train\", \"epoch\": 12, \"duration\": 21, \"num_examples\": 6, \"num_bytes\": 1248}\u001b[0m\n",
      "\u001b[34m#metrics {\"StartTime\": 1637216527.714556, \"EndTime\": 1637216527.7145903, \"Dimensions\": {\"Algorithm\": \"Linear Learner\", \"Host\": \"algo-1\", \"Operation\": \"training\", \"epoch\": 4, \"model\": 0}, \"Metrics\": {\"train_absolute_loss_objective\": {\"sum\": 0.7995279026031494, \"count\": 1, \"min\": 0.7995279026031494, \"max\": 0.7995279026031494}}}\u001b[0m\n",
      "\u001b[34m#metrics {\"StartTime\": 1637216527.7146487, \"EndTime\": 1637216527.714662, \"Dimensions\": {\"Algorithm\": \"Linear Learner\", \"Host\": \"algo-1\", \"Operation\": \"training\", \"epoch\": 4, \"model\": 1}, \"Metrics\": {\"train_absolute_loss_objective\": {\"sum\": 0.7938357067108154, \"count\": 1, \"min\": 0.7938357067108154, \"max\": 0.7938357067108154}}}\u001b[0m\n",
      "\u001b[34m#metrics {\"StartTime\": 1637216527.7147098, \"EndTime\": 1637216527.7147214, \"Dimensions\": {\"Algorithm\": \"Linear Learner\", \"Host\": \"algo-1\", \"Operation\": \"training\", \"epoch\": 4, \"model\": 2}, \"Metrics\": {\"train_absolute_loss_objective\": {\"sum\": 0.7802279758453369, \"count\": 1, \"min\": 0.7802279758453369, \"max\": 0.7802279758453369}}}\u001b[0m\n",
      "\u001b[34m#metrics {\"StartTime\": 1637216527.7147589, \"EndTime\": 1637216527.7147686, \"Dimensions\": {\"Algorithm\": \"Linear Learner\", \"Host\": \"algo-1\", \"Operation\": \"training\", \"epoch\": 4, \"model\": 3}, \"Metrics\": {\"train_absolute_loss_objective\": {\"sum\": 0.7646704006195069, \"count\": 1, \"min\": 0.7646704006195069, \"max\": 0.7646704006195069}}}\u001b[0m\n",
      "\u001b[34m#metrics {\"StartTime\": 1637216527.7148046, \"EndTime\": 1637216527.7148144, \"Dimensions\": {\"Algorithm\": \"Linear Learner\", \"Host\": \"algo-1\", \"Operation\": \"training\", \"epoch\": 4, \"model\": 4}, \"Metrics\": {\"train_absolute_loss_objective\": {\"sum\": 0.3899326753616333, \"count\": 1, \"min\": 0.3899326753616333, \"max\": 0.3899326753616333}}}\u001b[0m\n",
      "\u001b[34m[11/18/2021 06:22:07 INFO 140709504116544] #quality_metric: host=algo-1, epoch=4, train absolute_loss_objective <loss>=0.7995279026031494\u001b[0m\n",
      "\u001b[34m[11/18/2021 06:22:07 INFO 140709504116544] #early_stopping_criteria_metric: host=algo-1, epoch=4, criteria=absolute_loss_objective, value=0.3899326753616333\u001b[0m\n",
      "\u001b[34m[11/18/2021 06:22:07 INFO 140709504116544] Saving model for epoch: 4\u001b[0m\n",
      "\u001b[34m[11/18/2021 06:22:07 INFO 140709504116544] Saved checkpoint to \"/tmp/tmpz4j5mag5/mx-mod-0000.params\"\u001b[0m\n",
      "\u001b[34m[11/18/2021 06:22:07 INFO 140709504116544] #progress_metric: host=algo-1, completed 10.0 % of epochs\u001b[0m\n",
      "\u001b[34m#metrics {\"StartTime\": 1637216527.6929805, \"EndTime\": 1637216527.720739, \"Dimensions\": {\"Algorithm\": \"Linear Learner\", \"Host\": \"algo-1\", \"Operation\": \"training\", \"epoch\": 4, \"Meta\": \"training_data_iter\"}, \"Metrics\": {\"Total Records Seen\": {\"sum\": 161.0, \"count\": 1, \"min\": 161, \"max\": 161}, \"Total Batches Seen\": {\"sum\": 37.0, \"count\": 1, \"min\": 37, \"max\": 37}, \"Max Records Seen Between Resets\": {\"sum\": 26.0, \"count\": 1, \"min\": 26, \"max\": 26}, \"Max Batches Seen Between Resets\": {\"sum\": 6.0, \"count\": 1, \"min\": 6, \"max\": 6}, \"Reset Count\": {\"sum\": 7.0, \"count\": 1, \"min\": 7, \"max\": 7}, \"Number of Records Since Last Reset\": {\"sum\": 26.0, \"count\": 1, \"min\": 26, \"max\": 26}, \"Number of Batches Since Last Reset\": {\"sum\": 6.0, \"count\": 1, \"min\": 6, \"max\": 6}}}\u001b[0m\n",
      "\u001b[34m[11/18/2021 06:22:07 INFO 140709504116544] #throughput_metric: host=algo-1, train throughput=932.4341535988508 records/second\u001b[0m\n",
      "\u001b[34m[2021-11-18 06:22:07.742] [tensorio] [info] epoch_stats={\"data_pipeline\": \"/opt/ml/input/data/train\", \"epoch\": 14, \"duration\": 21, \"num_examples\": 6, \"num_bytes\": 1248}\u001b[0m\n",
      "\u001b[34m#metrics {\"StartTime\": 1637216527.7426558, \"EndTime\": 1637216527.7426903, \"Dimensions\": {\"Algorithm\": \"Linear Learner\", \"Host\": \"algo-1\", \"Operation\": \"training\", \"epoch\": 5, \"model\": 0}, \"Metrics\": {\"train_absolute_loss_objective\": {\"sum\": 0.7806689453125, \"count\": 1, \"min\": 0.7806689453125, \"max\": 0.7806689453125}}}\u001b[0m\n",
      "\u001b[34m#metrics {\"StartTime\": 1637216527.7428236, \"EndTime\": 1637216527.7428424, \"Dimensions\": {\"Algorithm\": \"Linear Learner\", \"Host\": \"algo-1\", \"Operation\": \"training\", \"epoch\": 5, \"model\": 1}, \"Metrics\": {\"train_absolute_loss_objective\": {\"sum\": 0.7745813941955566, \"count\": 1, \"min\": 0.7745813941955566, \"max\": 0.7745813941955566}}}\u001b[0m\n",
      "\u001b[34m#metrics {\"StartTime\": 1637216527.7429454, \"EndTime\": 1637216527.7429626, \"Dimensions\": {\"Algorithm\": \"Linear Learner\", \"Host\": \"algo-1\", \"Operation\": \"training\", \"epoch\": 5, \"model\": 2}, \"Metrics\": {\"train_absolute_loss_objective\": {\"sum\": 0.7611440181732178, \"count\": 1, \"min\": 0.7611440181732178, \"max\": 0.7611440181732178}}}\u001b[0m\n",
      "\u001b[34m#metrics {\"StartTime\": 1637216527.7430065, \"EndTime\": 1637216527.7430732, \"Dimensions\": {\"Algorithm\": \"Linear Learner\", \"Host\": \"algo-1\", \"Operation\": \"training\", \"epoch\": 5, \"model\": 3}, \"Metrics\": {\"train_absolute_loss_objective\": {\"sum\": 0.7450760746002197, \"count\": 1, \"min\": 0.7450760746002197, \"max\": 0.7450760746002197}}}\u001b[0m\n",
      "\u001b[34m#metrics {\"StartTime\": 1637216527.7431183, \"EndTime\": 1637216527.743132, \"Dimensions\": {\"Algorithm\": \"Linear Learner\", \"Host\": \"algo-1\", \"Operation\": \"training\", \"epoch\": 5, \"model\": 4}, \"Metrics\": {\"train_absolute_loss_objective\": {\"sum\": 0.27300999641418455, \"count\": 1, \"min\": 0.27300999641418455, \"max\": 0.27300999641418455}}}\u001b[0m\n",
      "\u001b[34m[11/18/2021 06:22:07 INFO 140709504116544] #quality_metric: host=algo-1, epoch=5, train absolute_loss_objective <loss>=0.7806689453125\u001b[0m\n",
      "\u001b[34m[11/18/2021 06:22:07 INFO 140709504116544] #early_stopping_criteria_metric: host=algo-1, epoch=5, criteria=absolute_loss_objective, value=0.27300999641418455\u001b[0m\n",
      "\u001b[34m[11/18/2021 06:22:07 INFO 140709504116544] Epoch 5: Loss improved. Updating best model\u001b[0m\n",
      "\u001b[34m[11/18/2021 06:22:07 INFO 140709504116544] Saving model for epoch: 5\u001b[0m\n",
      "\u001b[34m[11/18/2021 06:22:07 INFO 140709504116544] Saved checkpoint to \"/tmp/tmpftri1t7x/mx-mod-0000.params\"\u001b[0m\n",
      "\u001b[34m[11/18/2021 06:22:07 INFO 140709504116544] #progress_metric: host=algo-1, completed 12.0 % of epochs\u001b[0m\n",
      "\u001b[34m#metrics {\"StartTime\": 1637216527.7210166, \"EndTime\": 1637216527.750438, \"Dimensions\": {\"Algorithm\": \"Linear Learner\", \"Host\": \"algo-1\", \"Operation\": \"training\", \"epoch\": 5, \"Meta\": \"training_data_iter\"}, \"Metrics\": {\"Total Records Seen\": {\"sum\": 187.0, \"count\": 1, \"min\": 187, \"max\": 187}, \"Total Batches Seen\": {\"sum\": 43.0, \"count\": 1, \"min\": 43, \"max\": 43}, \"Max Records Seen Between Resets\": {\"sum\": 26.0, \"count\": 1, \"min\": 26, \"max\": 26}, \"Max Batches Seen Between Resets\": {\"sum\": 6.0, \"count\": 1, \"min\": 6, \"max\": 6}, \"Reset Count\": {\"sum\": 8.0, \"count\": 1, \"min\": 8, \"max\": 8}, \"Number of Records Since Last Reset\": {\"sum\": 26.0, \"count\": 1, \"min\": 26, \"max\": 26}, \"Number of Batches Since Last Reset\": {\"sum\": 6.0, \"count\": 1, \"min\": 6, \"max\": 6}}}\u001b[0m\n",
      "\u001b[34m[11/18/2021 06:22:07 INFO 140709504116544] #throughput_metric: host=algo-1, train throughput=880.6866409316299 records/second\u001b[0m\n",
      "\u001b[34m[2021-11-18 06:22:07.782] [tensorio] [info] epoch_stats={\"data_pipeline\": \"/opt/ml/input/data/train\", \"epoch\": 16, \"duration\": 31, \"num_examples\": 6, \"num_bytes\": 1248}\u001b[0m\n",
      "\u001b[34m#metrics {\"StartTime\": 1637216527.7826164, \"EndTime\": 1637216527.7826777, \"Dimensions\": {\"Algorithm\": \"Linear Learner\", \"Host\": \"algo-1\", \"Operation\": \"training\", \"epoch\": 6, \"model\": 0}, \"Metrics\": {\"train_absolute_loss_objective\": {\"sum\": 0.7616021537780762, \"count\": 1, \"min\": 0.7616021537780762, \"max\": 0.7616021537780762}}}\u001b[0m\n",
      "\u001b[34m#metrics {\"StartTime\": 1637216527.782887, \"EndTime\": 1637216527.7829454, \"Dimensions\": {\"Algorithm\": \"Linear Learner\", \"Host\": \"algo-1\", \"Operation\": \"training\", \"epoch\": 6, \"model\": 1}, \"Metrics\": {\"train_absolute_loss_objective\": {\"sum\": 0.755057315826416, \"count\": 1, \"min\": 0.755057315826416, \"max\": 0.755057315826416}}}\u001b[0m\n",
      "\u001b[34m#metrics {\"StartTime\": 1637216527.7831185, \"EndTime\": 1637216527.783174, \"Dimensions\": {\"Algorithm\": \"Linear Learner\", \"Host\": \"algo-1\", \"Operation\": \"training\", \"epoch\": 6, \"model\": 2}, \"Metrics\": {\"train_absolute_loss_objective\": {\"sum\": 0.7420772647857666, \"count\": 1, \"min\": 0.7420772647857666, \"max\": 0.7420772647857666}}}\u001b[0m\n",
      "\u001b[34m#metrics {\"StartTime\": 1637216527.7833395, \"EndTime\": 1637216527.7833595, \"Dimensions\": {\"Algorithm\": \"Linear Learner\", \"Host\": \"algo-1\", \"Operation\": \"training\", \"epoch\": 6, \"model\": 3}, \"Metrics\": {\"train_absolute_loss_objective\": {\"sum\": 0.7244137001037597, \"count\": 1, \"min\": 0.7244137001037597, \"max\": 0.7244137001037597}}}\u001b[0m\n",
      "\u001b[34m#metrics {\"StartTime\": 1637216527.783533, \"EndTime\": 1637216527.7835917, \"Dimensions\": {\"Algorithm\": \"Linear Learner\", \"Host\": \"algo-1\", \"Operation\": \"training\", \"epoch\": 6, \"model\": 4}, \"Metrics\": {\"train_absolute_loss_objective\": {\"sum\": 0.3118397164344788, \"count\": 1, \"min\": 0.3118397164344788, \"max\": 0.3118397164344788}}}\u001b[0m\n",
      "\u001b[34m[11/18/2021 06:22:07 INFO 140709504116544] #quality_metric: host=algo-1, epoch=6, train absolute_loss_objective <loss>=0.7616021537780762\u001b[0m\n",
      "\u001b[34m[11/18/2021 06:22:07 INFO 140709504116544] #early_stopping_criteria_metric: host=algo-1, epoch=6, criteria=absolute_loss_objective, value=0.3118397164344788\u001b[0m\n",
      "\u001b[34m[11/18/2021 06:22:07 INFO 140709504116544] Saving model for epoch: 6\u001b[0m\n",
      "\u001b[34m[11/18/2021 06:22:07 INFO 140709504116544] Saved checkpoint to \"/tmp/tmp6lnkn00_/mx-mod-0000.params\"\u001b[0m\n",
      "\u001b[34m[11/18/2021 06:22:07 INFO 140709504116544] #progress_metric: host=algo-1, completed 14.0 % of epochs\u001b[0m\n",
      "\u001b[34m#metrics {\"StartTime\": 1637216527.7506871, \"EndTime\": 1637216527.7918718, \"Dimensions\": {\"Algorithm\": \"Linear Learner\", \"Host\": \"algo-1\", \"Operation\": \"training\", \"epoch\": 6, \"Meta\": \"training_data_iter\"}, \"Metrics\": {\"Total Records Seen\": {\"sum\": 213.0, \"count\": 1, \"min\": 213, \"max\": 213}, \"Total Batches Seen\": {\"sum\": 49.0, \"count\": 1, \"min\": 49, \"max\": 49}, \"Max Records Seen Between Resets\": {\"sum\": 26.0, \"count\": 1, \"min\": 26, \"max\": 26}, \"Max Batches Seen Between Resets\": {\"sum\": 6.0, \"count\": 1, \"min\": 6, \"max\": 6}, \"Reset Count\": {\"sum\": 9.0, \"count\": 1, \"min\": 9, \"max\": 9}, \"Number of Records Since Last Reset\": {\"sum\": 26.0, \"count\": 1, \"min\": 26, \"max\": 26}, \"Number of Batches Since Last Reset\": {\"sum\": 6.0, \"count\": 1, \"min\": 6, \"max\": 6}}}\u001b[0m\n",
      "\u001b[34m[11/18/2021 06:22:07 INFO 140709504116544] #throughput_metric: host=algo-1, train throughput=629.4046242107329 records/second\u001b[0m\n",
      "\u001b[34m[2021-11-18 06:22:07.814] [tensorio] [info] epoch_stats={\"data_pipeline\": \"/opt/ml/input/data/train\", \"epoch\": 18, \"duration\": 21, \"num_examples\": 6, \"num_bytes\": 1248}\u001b[0m\n",
      "\u001b[34m#metrics {\"StartTime\": 1637216527.8142514, \"EndTime\": 1637216527.8142893, \"Dimensions\": {\"Algorithm\": \"Linear Learner\", \"Host\": \"algo-1\", \"Operation\": \"training\", \"epoch\": 7, \"model\": 0}, \"Metrics\": {\"train_absolute_loss_objective\": {\"sum\": 0.7415600681304931, \"count\": 1, \"min\": 0.7415600681304931, \"max\": 0.7415600681304931}}}\u001b[0m\n",
      "\u001b[34m#metrics {\"StartTime\": 1637216527.8143504, \"EndTime\": 1637216527.8143647, \"Dimensions\": {\"Algorithm\": \"Linear Learner\", \"Host\": \"algo-1\", \"Operation\": \"training\", \"epoch\": 7, \"model\": 1}, \"Metrics\": {\"train_absolute_loss_objective\": {\"sum\": 0.7344171333312989, \"count\": 1, \"min\": 0.7344171333312989, \"max\": 0.7344171333312989}}}\u001b[0m\n",
      "\u001b[34m#metrics {\"StartTime\": 1637216527.8144157, \"EndTime\": 1637216527.814432, \"Dimensions\": {\"Algorithm\": \"Linear Learner\", \"Host\": \"algo-1\", \"Operation\": \"training\", \"epoch\": 7, \"model\": 2}, \"Metrics\": {\"train_absolute_loss_objective\": {\"sum\": 0.7222601890563964, \"count\": 1, \"min\": 0.7222601890563964, \"max\": 0.7222601890563964}}}\u001b[0m\n",
      "\u001b[34m#metrics {\"StartTime\": 1637216527.8144827, \"EndTime\": 1637216527.814498, \"Dimensions\": {\"Algorithm\": \"Linear Learner\", \"Host\": \"algo-1\", \"Operation\": \"training\", \"epoch\": 7, \"model\": 3}, \"Metrics\": {\"train_absolute_loss_objective\": {\"sum\": 0.7056012535095215, \"count\": 1, \"min\": 0.7056012535095215, \"max\": 0.7056012535095215}}}\u001b[0m\n",
      "\u001b[34m#metrics {\"StartTime\": 1637216527.814549, \"EndTime\": 1637216527.8145657, \"Dimensions\": {\"Algorithm\": \"Linear Learner\", \"Host\": \"algo-1\", \"Operation\": \"training\", \"epoch\": 7, \"model\": 4}, \"Metrics\": {\"train_absolute_loss_objective\": {\"sum\": 0.3004733848571777, \"count\": 1, \"min\": 0.3004733848571777, \"max\": 0.3004733848571777}}}\u001b[0m\n",
      "\u001b[34m[11/18/2021 06:22:07 INFO 140709504116544] #quality_metric: host=algo-1, epoch=7, train absolute_loss_objective <loss>=0.7415600681304931\u001b[0m\n",
      "\u001b[34m[11/18/2021 06:22:07 INFO 140709504116544] #early_stopping_criteria_metric: host=algo-1, epoch=7, criteria=absolute_loss_objective, value=0.3004733848571777\u001b[0m\n",
      "\u001b[34m[11/18/2021 06:22:07 INFO 140709504116544] Saving model for epoch: 7\u001b[0m\n",
      "\u001b[34m[11/18/2021 06:22:07 INFO 140709504116544] Saved checkpoint to \"/tmp/tmpvvqn944g/mx-mod-0000.params\"\u001b[0m\n",
      "\u001b[34m[11/18/2021 06:22:07 INFO 140709504116544] #progress_metric: host=algo-1, completed 16.0 % of epochs\u001b[0m\n",
      "\u001b[34m#metrics {\"StartTime\": 1637216527.7921576, \"EndTime\": 1637216527.8210325, \"Dimensions\": {\"Algorithm\": \"Linear Learner\", \"Host\": \"algo-1\", \"Operation\": \"training\", \"epoch\": 7, \"Meta\": \"training_data_iter\"}, \"Metrics\": {\"Total Records Seen\": {\"sum\": 239.0, \"count\": 1, \"min\": 239, \"max\": 239}, \"Total Batches Seen\": {\"sum\": 55.0, \"count\": 1, \"min\": 55, \"max\": 55}, \"Max Records Seen Between Resets\": {\"sum\": 26.0, \"count\": 1, \"min\": 26, \"max\": 26}, \"Max Batches Seen Between Resets\": {\"sum\": 6.0, \"count\": 1, \"min\": 6, \"max\": 6}, \"Reset Count\": {\"sum\": 10.0, \"count\": 1, \"min\": 10, \"max\": 10}, \"Number of Records Since Last Reset\": {\"sum\": 26.0, \"count\": 1, \"min\": 26, \"max\": 26}, \"Number of Batches Since Last Reset\": {\"sum\": 6.0, \"count\": 1, \"min\": 6, \"max\": 6}}}\u001b[0m\n",
      "\u001b[34m[11/18/2021 06:22:07 INFO 140709504116544] #throughput_metric: host=algo-1, train throughput=896.4619267224017 records/second\u001b[0m\n",
      "\u001b[34m[2021-11-18 06:22:07.843] [tensorio] [info] epoch_stats={\"data_pipeline\": \"/opt/ml/input/data/train\", \"epoch\": 20, \"duration\": 21, \"num_examples\": 6, \"num_bytes\": 1248}\u001b[0m\n",
      "\u001b[34m#metrics {\"StartTime\": 1637216527.8432295, \"EndTime\": 1637216527.8432686, \"Dimensions\": {\"Algorithm\": \"Linear Learner\", \"Host\": \"algo-1\", \"Operation\": \"training\", \"epoch\": 8, \"model\": 0}, \"Metrics\": {\"train_absolute_loss_objective\": {\"sum\": 0.7216535520553589, \"count\": 1, \"min\": 0.7216535520553589, \"max\": 0.7216535520553589}}}\u001b[0m\n",
      "\u001b[34m#metrics {\"StartTime\": 1637216527.843335, \"EndTime\": 1637216527.8433988, \"Dimensions\": {\"Algorithm\": \"Linear Learner\", \"Host\": \"algo-1\", \"Operation\": \"training\", \"epoch\": 8, \"model\": 1}, \"Metrics\": {\"train_absolute_loss_objective\": {\"sum\": 0.7138179016113281, \"count\": 1, \"min\": 0.7138179016113281, \"max\": 0.7138179016113281}}}\u001b[0m\n",
      "\u001b[34m#metrics {\"StartTime\": 1637216527.8434613, \"EndTime\": 1637216527.8434784, \"Dimensions\": {\"Algorithm\": \"Linear Learner\", \"Host\": \"algo-1\", \"Operation\": \"training\", \"epoch\": 8, \"model\": 2}, \"Metrics\": {\"train_absolute_loss_objective\": {\"sum\": 0.7023536396026612, \"count\": 1, \"min\": 0.7023536396026612, \"max\": 0.7023536396026612}}}\u001b[0m\n",
      "\u001b[34m#metrics {\"StartTime\": 1637216527.8435197, \"EndTime\": 1637216527.8435302, \"Dimensions\": {\"Algorithm\": \"Linear Learner\", \"Host\": \"algo-1\", \"Operation\": \"training\", \"epoch\": 8, \"model\": 3}, \"Metrics\": {\"train_absolute_loss_objective\": {\"sum\": 0.6857157659530639, \"count\": 1, \"min\": 0.6857157659530639, \"max\": 0.6857157659530639}}}\u001b[0m\n",
      "\u001b[34m#metrics {\"StartTime\": 1637216527.8435674, \"EndTime\": 1637216527.8435779, \"Dimensions\": {\"Algorithm\": \"Linear Learner\", \"Host\": \"algo-1\", \"Operation\": \"training\", \"epoch\": 8, \"model\": 4}, \"Metrics\": {\"train_absolute_loss_objective\": {\"sum\": 0.2685015058517456, \"count\": 1, \"min\": 0.2685015058517456, \"max\": 0.2685015058517456}}}\u001b[0m\n",
      "\u001b[34m[11/18/2021 06:22:07 INFO 140709504116544] #quality_metric: host=algo-1, epoch=8, train absolute_loss_objective <loss>=0.7216535520553589\u001b[0m\n",
      "\u001b[34m[11/18/2021 06:22:07 INFO 140709504116544] #early_stopping_criteria_metric: host=algo-1, epoch=8, criteria=absolute_loss_objective, value=0.2685015058517456\u001b[0m\n",
      "\u001b[34m[11/18/2021 06:22:07 INFO 140709504116544] Epoch 8: Loss improved. Updating best model\u001b[0m\n",
      "\u001b[34m[11/18/2021 06:22:07 INFO 140709504116544] Saving model for epoch: 8\u001b[0m\n",
      "\u001b[34m[11/18/2021 06:22:07 INFO 140709504116544] Saved checkpoint to \"/tmp/tmp8g4_iawg/mx-mod-0000.params\"\u001b[0m\n",
      "\u001b[34m[11/18/2021 06:22:07 INFO 140709504116544] #progress_metric: host=algo-1, completed 18.0 % of epochs\u001b[0m\n",
      "\u001b[34m#metrics {\"StartTime\": 1637216527.8213236, \"EndTime\": 1637216527.8511996, \"Dimensions\": {\"Algorithm\": \"Linear Learner\", \"Host\": \"algo-1\", \"Operation\": \"training\", \"epoch\": 8, \"Meta\": \"training_data_iter\"}, \"Metrics\": {\"Total Records Seen\": {\"sum\": 265.0, \"count\": 1, \"min\": 265, \"max\": 265}, \"Total Batches Seen\": {\"sum\": 61.0, \"count\": 1, \"min\": 61, \"max\": 61}, \"Max Records Seen Between Resets\": {\"sum\": 26.0, \"count\": 1, \"min\": 26, \"max\": 26}, \"Max Batches Seen Between Resets\": {\"sum\": 6.0, \"count\": 1, \"min\": 6, \"max\": 6}, \"Reset Count\": {\"sum\": 11.0, \"count\": 1, \"min\": 11, \"max\": 11}, \"Number of Records Since Last Reset\": {\"sum\": 26.0, \"count\": 1, \"min\": 26, \"max\": 26}, \"Number of Batches Since Last Reset\": {\"sum\": 6.0, \"count\": 1, \"min\": 6, \"max\": 6}}}\u001b[0m\n",
      "\u001b[34m[11/18/2021 06:22:07 INFO 140709504116544] #throughput_metric: host=algo-1, train throughput=866.5504187657931 records/second\u001b[0m\n",
      "\u001b[34m[2021-11-18 06:22:07.873] [tensorio] [info] epoch_stats={\"data_pipeline\": \"/opt/ml/input/data/train\", \"epoch\": 22, \"duration\": 21, \"num_examples\": 6, \"num_bytes\": 1248}\u001b[0m\n",
      "\u001b[34m#metrics {\"StartTime\": 1637216527.8731875, \"EndTime\": 1637216527.8732445, \"Dimensions\": {\"Algorithm\": \"Linear Learner\", \"Host\": \"algo-1\", \"Operation\": \"training\", \"epoch\": 9, \"model\": 0}, \"Metrics\": {\"train_absolute_loss_objective\": {\"sum\": 0.7031466102600098, \"count\": 1, \"min\": 0.7031466102600098, \"max\": 0.7031466102600098}}}\u001b[0m\n",
      "\u001b[34m#metrics {\"StartTime\": 1637216527.8733146, \"EndTime\": 1637216527.8733296, \"Dimensions\": {\"Algorithm\": \"Linear Learner\", \"Host\": \"algo-1\", \"Operation\": \"training\", \"epoch\": 9, \"model\": 1}, \"Metrics\": {\"train_absolute_loss_objective\": {\"sum\": 0.6945428276062011, \"count\": 1, \"min\": 0.6945428276062011, \"max\": 0.6945428276062011}}}\u001b[0m\n",
      "\u001b[34m#metrics {\"StartTime\": 1637216527.8733752, \"EndTime\": 1637216527.873408, \"Dimensions\": {\"Algorithm\": \"Linear Learner\", \"Host\": \"algo-1\", \"Operation\": \"training\", \"epoch\": 9, \"model\": 2}, \"Metrics\": {\"train_absolute_loss_objective\": {\"sum\": 0.6836217021942139, \"count\": 1, \"min\": 0.6836217021942139, \"max\": 0.6836217021942139}}}\u001b[0m\n",
      "\u001b[34m#metrics {\"StartTime\": 1637216527.8734715, \"EndTime\": 1637216527.8734841, \"Dimensions\": {\"Algorithm\": \"Linear Learner\", \"Host\": \"algo-1\", \"Operation\": \"training\", \"epoch\": 9, \"model\": 3}, \"Metrics\": {\"train_absolute_loss_objective\": {\"sum\": 0.6652860260009765, \"count\": 1, \"min\": 0.6652860260009765, \"max\": 0.6652860260009765}}}\u001b[0m\n",
      "\u001b[34m#metrics {\"StartTime\": 1637216527.8735187, \"EndTime\": 1637216527.873528, \"Dimensions\": {\"Algorithm\": \"Linear Learner\", \"Host\": \"algo-1\", \"Operation\": \"training\", \"epoch\": 9, \"model\": 4}, \"Metrics\": {\"train_absolute_loss_objective\": {\"sum\": 0.3008610248565674, \"count\": 1, \"min\": 0.3008610248565674, \"max\": 0.3008610248565674}}}\u001b[0m\n",
      "\u001b[34m[11/18/2021 06:22:07 INFO 140709504116544] #quality_metric: host=algo-1, epoch=9, train absolute_loss_objective <loss>=0.7031466102600098\u001b[0m\n",
      "\u001b[34m[11/18/2021 06:22:07 INFO 140709504116544] #early_stopping_criteria_metric: host=algo-1, epoch=9, criteria=absolute_loss_objective, value=0.3008610248565674\u001b[0m\n",
      "\u001b[34m[11/18/2021 06:22:07 INFO 140709504116544] Saving model for epoch: 9\u001b[0m\n",
      "\u001b[34m[11/18/2021 06:22:07 INFO 140709504116544] Saved checkpoint to \"/tmp/tmpc0nnrftn/mx-mod-0000.params\"\u001b[0m\n",
      "\u001b[34m[11/18/2021 06:22:07 INFO 140709504116544] #progress_metric: host=algo-1, completed 20.0 % of epochs\u001b[0m\n",
      "\u001b[34m#metrics {\"StartTime\": 1637216527.8514762, \"EndTime\": 1637216527.8800735, \"Dimensions\": {\"Algorithm\": \"Linear Learner\", \"Host\": \"algo-1\", \"Operation\": \"training\", \"epoch\": 9, \"Meta\": \"training_data_iter\"}, \"Metrics\": {\"Total Records Seen\": {\"sum\": 291.0, \"count\": 1, \"min\": 291, \"max\": 291}, \"Total Batches Seen\": {\"sum\": 67.0, \"count\": 1, \"min\": 67, \"max\": 67}, \"Max Records Seen Between Resets\": {\"sum\": 26.0, \"count\": 1, \"min\": 26, \"max\": 26}, \"Max Batches Seen Between Resets\": {\"sum\": 6.0, \"count\": 1, \"min\": 6, \"max\": 6}, \"Reset Count\": {\"sum\": 12.0, \"count\": 1, \"min\": 12, \"max\": 12}, \"Number of Records Since Last Reset\": {\"sum\": 26.0, \"count\": 1, \"min\": 26, \"max\": 26}, \"Number of Batches Since Last Reset\": {\"sum\": 6.0, \"count\": 1, \"min\": 6, \"max\": 6}}}\u001b[0m\n",
      "\u001b[34m[11/18/2021 06:22:07 INFO 140709504116544] #throughput_metric: host=algo-1, train throughput=905.0926987973806 records/second\u001b[0m\n",
      "\u001b[34m[2021-11-18 06:22:07.901] [tensorio] [info] epoch_stats={\"data_pipeline\": \"/opt/ml/input/data/train\", \"epoch\": 24, \"duration\": 21, \"num_examples\": 6, \"num_bytes\": 1248}\u001b[0m\n",
      "\u001b[34m#metrics {\"StartTime\": 1637216527.9018788, \"EndTime\": 1637216527.9019182, \"Dimensions\": {\"Algorithm\": \"Linear Learner\", \"Host\": \"algo-1\", \"Operation\": \"training\", \"epoch\": 10, \"model\": 0}, \"Metrics\": {\"train_absolute_loss_objective\": {\"sum\": 0.6832830381393432, \"count\": 1, \"min\": 0.6832830381393432, \"max\": 0.6832830381393432}}}\u001b[0m\n",
      "\u001b[34m#metrics {\"StartTime\": 1637216527.9019814, \"EndTime\": 1637216527.9019954, \"Dimensions\": {\"Algorithm\": \"Linear Learner\", \"Host\": \"algo-1\", \"Operation\": \"training\", \"epoch\": 10, \"model\": 1}, \"Metrics\": {\"train_absolute_loss_objective\": {\"sum\": 0.6737926006317139, \"count\": 1, \"min\": 0.6737926006317139, \"max\": 0.6737926006317139}}}\u001b[0m\n",
      "\u001b[34m#metrics {\"StartTime\": 1637216527.9020345, \"EndTime\": 1637216527.9020452, \"Dimensions\": {\"Algorithm\": \"Linear Learner\", \"Host\": \"algo-1\", \"Operation\": \"training\", \"epoch\": 10, \"model\": 2}, \"Metrics\": {\"train_absolute_loss_objective\": {\"sum\": 0.6639831733703613, \"count\": 1, \"min\": 0.6639831733703613, \"max\": 0.6639831733703613}}}\u001b[0m\n",
      "\u001b[34m#metrics {\"StartTime\": 1637216527.902092, \"EndTime\": 1637216527.9021046, \"Dimensions\": {\"Algorithm\": \"Linear Learner\", \"Host\": \"algo-1\", \"Operation\": \"training\", \"epoch\": 10, \"model\": 3}, \"Metrics\": {\"train_absolute_loss_objective\": {\"sum\": 0.6447346591949463, \"count\": 1, \"min\": 0.6447346591949463, \"max\": 0.6447346591949463}}}\u001b[0m\n",
      "\u001b[34m#metrics {\"StartTime\": 1637216527.9021413, \"EndTime\": 1637216527.902151, \"Dimensions\": {\"Algorithm\": \"Linear Learner\", \"Host\": \"algo-1\", \"Operation\": \"training\", \"epoch\": 10, \"model\": 4}, \"Metrics\": {\"train_absolute_loss_objective\": {\"sum\": 0.33163004398345947, \"count\": 1, \"min\": 0.33163004398345947, \"max\": 0.33163004398345947}}}\u001b[0m\n",
      "\u001b[34m[11/18/2021 06:22:07 INFO 140709504116544] #quality_metric: host=algo-1, epoch=10, train absolute_loss_objective <loss>=0.6832830381393432\u001b[0m\n",
      "\u001b[34m[11/18/2021 06:22:07 INFO 140709504116544] #early_stopping_criteria_metric: host=algo-1, epoch=10, criteria=absolute_loss_objective, value=0.33163004398345947\u001b[0m\n",
      "\u001b[34m[11/18/2021 06:22:07 INFO 140709504116544] Saving model for epoch: 10\u001b[0m\n",
      "\u001b[34m[11/18/2021 06:22:07 INFO 140709504116544] Saved checkpoint to \"/tmp/tmpfjdjed22/mx-mod-0000.params\"\u001b[0m\n",
      "\u001b[34m[11/18/2021 06:22:07 INFO 140709504116544] #progress_metric: host=algo-1, completed 22.0 % of epochs\u001b[0m\n",
      "\u001b[34m#metrics {\"StartTime\": 1637216527.8803484, \"EndTime\": 1637216527.9084895, \"Dimensions\": {\"Algorithm\": \"Linear Learner\", \"Host\": \"algo-1\", \"Operation\": \"training\", \"epoch\": 10, \"Meta\": \"training_data_iter\"}, \"Metrics\": {\"Total Records Seen\": {\"sum\": 317.0, \"count\": 1, \"min\": 317, \"max\": 317}, \"Total Batches Seen\": {\"sum\": 73.0, \"count\": 1, \"min\": 73, \"max\": 73}, \"Max Records Seen Between Resets\": {\"sum\": 26.0, \"count\": 1, \"min\": 26, \"max\": 26}, \"Max Batches Seen Between Resets\": {\"sum\": 6.0, \"count\": 1, \"min\": 6, \"max\": 6}, \"Reset Count\": {\"sum\": 13.0, \"count\": 1, \"min\": 13, \"max\": 13}, \"Number of Records Since Last Reset\": {\"sum\": 26.0, \"count\": 1, \"min\": 26, \"max\": 26}, \"Number of Batches Since Last Reset\": {\"sum\": 6.0, \"count\": 1, \"min\": 6, \"max\": 6}}}\u001b[0m\n",
      "\u001b[34m[11/18/2021 06:22:07 INFO 140709504116544] #throughput_metric: host=algo-1, train throughput=919.5165476361123 records/second\u001b[0m\n",
      "\u001b[34m[2021-11-18 06:22:07.930] [tensorio] [info] epoch_stats={\"data_pipeline\": \"/opt/ml/input/data/train\", \"epoch\": 26, \"duration\": 21, \"num_examples\": 6, \"num_bytes\": 1248}\u001b[0m\n",
      "\u001b[34m#metrics {\"StartTime\": 1637216527.9304466, \"EndTime\": 1637216527.9304826, \"Dimensions\": {\"Algorithm\": \"Linear Learner\", \"Host\": \"algo-1\", \"Operation\": \"training\", \"epoch\": 11, \"model\": 0}, \"Metrics\": {\"train_absolute_loss_objective\": {\"sum\": 0.6651006507873535, \"count\": 1, \"min\": 0.6651006507873535, \"max\": 0.6651006507873535}}}\u001b[0m\n",
      "\u001b[34m#metrics {\"StartTime\": 1637216527.9305453, \"EndTime\": 1637216527.9305584, \"Dimensions\": {\"Algorithm\": \"Linear Learner\", \"Host\": \"algo-1\", \"Operation\": \"training\", \"epoch\": 11, \"model\": 1}, \"Metrics\": {\"train_absolute_loss_objective\": {\"sum\": 0.6546659183502197, \"count\": 1, \"min\": 0.6546659183502197, \"max\": 0.6546659183502197}}}\u001b[0m\n",
      "\u001b[34m#metrics {\"StartTime\": 1637216527.9305966, \"EndTime\": 1637216527.9306068, \"Dimensions\": {\"Algorithm\": \"Linear Learner\", \"Host\": \"algo-1\", \"Operation\": \"training\", \"epoch\": 11, \"model\": 2}, \"Metrics\": {\"train_absolute_loss_objective\": {\"sum\": 0.6455758094787598, \"count\": 1, \"min\": 0.6455758094787598, \"max\": 0.6455758094787598}}}\u001b[0m\n",
      "\u001b[34m#metrics {\"StartTime\": 1637216527.9306414, \"EndTime\": 1637216527.9306512, \"Dimensions\": {\"Algorithm\": \"Linear Learner\", \"Host\": \"algo-1\", \"Operation\": \"training\", \"epoch\": 11, \"model\": 3}, \"Metrics\": {\"train_absolute_loss_objective\": {\"sum\": 0.6240223932266236, \"count\": 1, \"min\": 0.6240223932266236, \"max\": 0.6240223932266236}}}\u001b[0m\n",
      "\u001b[34m#metrics {\"StartTime\": 1637216527.930684, \"EndTime\": 1637216527.9306934, \"Dimensions\": {\"Algorithm\": \"Linear Learner\", \"Host\": \"algo-1\", \"Operation\": \"training\", \"epoch\": 11, \"model\": 4}, \"Metrics\": {\"train_absolute_loss_objective\": {\"sum\": 0.18958847999572753, \"count\": 1, \"min\": 0.18958847999572753, \"max\": 0.18958847999572753}}}\u001b[0m\n",
      "\u001b[34m[11/18/2021 06:22:07 INFO 140709504116544] #quality_metric: host=algo-1, epoch=11, train absolute_loss_objective <loss>=0.6651006507873535\u001b[0m\n",
      "\u001b[34m[11/18/2021 06:22:07 INFO 140709504116544] #early_stopping_criteria_metric: host=algo-1, epoch=11, criteria=absolute_loss_objective, value=0.18958847999572753\u001b[0m\n",
      "\u001b[34m[11/18/2021 06:22:07 INFO 140709504116544] Epoch 11: Loss improved. Updating best model\u001b[0m\n",
      "\u001b[34m[11/18/2021 06:22:07 INFO 140709504116544] Saving model for epoch: 11\u001b[0m\n",
      "\u001b[34m[11/18/2021 06:22:07 INFO 140709504116544] Saved checkpoint to \"/tmp/tmpivopipw_/mx-mod-0000.params\"\u001b[0m\n",
      "\u001b[34m[11/18/2021 06:22:07 INFO 140709504116544] #progress_metric: host=algo-1, completed 24.0 % of epochs\u001b[0m\n",
      "\u001b[34m#metrics {\"StartTime\": 1637216527.9087858, \"EndTime\": 1637216527.9374886, \"Dimensions\": {\"Algorithm\": \"Linear Learner\", \"Host\": \"algo-1\", \"Operation\": \"training\", \"epoch\": 11, \"Meta\": \"training_data_iter\"}, \"Metrics\": {\"Total Records Seen\": {\"sum\": 343.0, \"count\": 1, \"min\": 343, \"max\": 343}, \"Total Batches Seen\": {\"sum\": 79.0, \"count\": 1, \"min\": 79, \"max\": 79}, \"Max Records Seen Between Resets\": {\"sum\": 26.0, \"count\": 1, \"min\": 26, \"max\": 26}, \"Max Batches Seen Between Resets\": {\"sum\": 6.0, \"count\": 1, \"min\": 6, \"max\": 6}, \"Reset Count\": {\"sum\": 14.0, \"count\": 1, \"min\": 14, \"max\": 14}, \"Number of Records Since Last Reset\": {\"sum\": 26.0, \"count\": 1, \"min\": 26, \"max\": 26}, \"Number of Batches Since Last Reset\": {\"sum\": 6.0, \"count\": 1, \"min\": 6, \"max\": 6}}}\u001b[0m\n",
      "\u001b[34m[11/18/2021 06:22:07 INFO 140709504116544] #throughput_metric: host=algo-1, train throughput=902.9568443016593 records/second\u001b[0m\n",
      "\u001b[34m[2021-11-18 06:22:07.959] [tensorio] [info] epoch_stats={\"data_pipeline\": \"/opt/ml/input/data/train\", \"epoch\": 28, \"duration\": 21, \"num_examples\": 6, \"num_bytes\": 1248}\u001b[0m\n",
      "\u001b[34m#metrics {\"StartTime\": 1637216527.9596465, \"EndTime\": 1637216527.9596858, \"Dimensions\": {\"Algorithm\": \"Linear Learner\", \"Host\": \"algo-1\", \"Operation\": \"training\", \"epoch\": 12, \"model\": 0}, \"Metrics\": {\"train_absolute_loss_objective\": {\"sum\": 0.6454147958755493, \"count\": 1, \"min\": 0.6454147958755493, \"max\": 0.6454147958755493}}}\u001b[0m\n",
      "\u001b[34m#metrics {\"StartTime\": 1637216527.959755, \"EndTime\": 1637216527.959769, \"Dimensions\": {\"Algorithm\": \"Linear Learner\", \"Host\": \"algo-1\", \"Operation\": \"training\", \"epoch\": 12, \"model\": 1}, \"Metrics\": {\"train_absolute_loss_objective\": {\"sum\": 0.6338928270339966, \"count\": 1, \"min\": 0.6338928270339966, \"max\": 0.6338928270339966}}}\u001b[0m\n",
      "\u001b[34m#metrics {\"StartTime\": 1637216527.9598074, \"EndTime\": 1637216527.9598193, \"Dimensions\": {\"Algorithm\": \"Linear Learner\", \"Host\": \"algo-1\", \"Operation\": \"training\", \"epoch\": 12, \"model\": 2}, \"Metrics\": {\"train_absolute_loss_objective\": {\"sum\": 0.6261149501800537, \"count\": 1, \"min\": 0.6261149501800537, \"max\": 0.6261149501800537}}}\u001b[0m\n",
      "\u001b[34m#metrics {\"StartTime\": 1637216527.9598637, \"EndTime\": 1637216527.9598782, \"Dimensions\": {\"Algorithm\": \"Linear Learner\", \"Host\": \"algo-1\", \"Operation\": \"training\", \"epoch\": 12, \"model\": 3}, \"Metrics\": {\"train_absolute_loss_objective\": {\"sum\": 0.6053668975830078, \"count\": 1, \"min\": 0.6053668975830078, \"max\": 0.6053668975830078}}}\u001b[0m\n",
      "\u001b[34m#metrics {\"StartTime\": 1637216527.9599257, \"EndTime\": 1637216527.9599395, \"Dimensions\": {\"Algorithm\": \"Linear Learner\", \"Host\": \"algo-1\", \"Operation\": \"training\", \"epoch\": 12, \"model\": 4}, \"Metrics\": {\"train_absolute_loss_objective\": {\"sum\": 0.1905856966972351, \"count\": 1, \"min\": 0.1905856966972351, \"max\": 0.1905856966972351}}}\u001b[0m\n",
      "\u001b[34m[11/18/2021 06:22:07 INFO 140709504116544] #quality_metric: host=algo-1, epoch=12, train absolute_loss_objective <loss>=0.6454147958755493\u001b[0m\n",
      "\u001b[34m[11/18/2021 06:22:07 INFO 140709504116544] #early_stopping_criteria_metric: host=algo-1, epoch=12, criteria=absolute_loss_objective, value=0.1905856966972351\u001b[0m\n",
      "\u001b[34m[11/18/2021 06:22:07 INFO 140709504116544] Saving model for epoch: 12\u001b[0m\n",
      "\u001b[34m[11/18/2021 06:22:07 INFO 140709504116544] Saved checkpoint to \"/tmp/tmppy1hjqft/mx-mod-0000.params\"\u001b[0m\n",
      "\u001b[34m[11/18/2021 06:22:07 INFO 140709504116544] #progress_metric: host=algo-1, completed 26.0 % of epochs\u001b[0m\n",
      "\u001b[34m#metrics {\"StartTime\": 1637216527.937658, \"EndTime\": 1637216527.967757, \"Dimensions\": {\"Algorithm\": \"Linear Learner\", \"Host\": \"algo-1\", \"Operation\": \"training\", \"epoch\": 12, \"Meta\": \"training_data_iter\"}, \"Metrics\": {\"Total Records Seen\": {\"sum\": 369.0, \"count\": 1, \"min\": 369, \"max\": 369}, \"Total Batches Seen\": {\"sum\": 85.0, \"count\": 1, \"min\": 85, \"max\": 85}, \"Max Records Seen Between Resets\": {\"sum\": 26.0, \"count\": 1, \"min\": 26, \"max\": 26}, \"Max Batches Seen Between Resets\": {\"sum\": 6.0, \"count\": 1, \"min\": 6, \"max\": 6}, \"Reset Count\": {\"sum\": 15.0, \"count\": 1, \"min\": 15, \"max\": 15}, \"Number of Records Since Last Reset\": {\"sum\": 26.0, \"count\": 1, \"min\": 26, \"max\": 26}, \"Number of Batches Since Last Reset\": {\"sum\": 6.0, \"count\": 1, \"min\": 6, \"max\": 6}}}\u001b[0m\n",
      "\u001b[34m[11/18/2021 06:22:07 INFO 140709504116544] #throughput_metric: host=algo-1, train throughput=859.0755075192412 records/second\u001b[0m\n",
      "\u001b[34m[2021-11-18 06:22:07.990] [tensorio] [info] epoch_stats={\"data_pipeline\": \"/opt/ml/input/data/train\", \"epoch\": 30, \"duration\": 22, \"num_examples\": 6, \"num_bytes\": 1248}\u001b[0m\n",
      "\u001b[34m#metrics {\"StartTime\": 1637216527.9909384, \"EndTime\": 1637216527.9910085, \"Dimensions\": {\"Algorithm\": \"Linear Learner\", \"Host\": \"algo-1\", \"Operation\": \"training\", \"epoch\": 13, \"model\": 0}, \"Metrics\": {\"train_absolute_loss_objective\": {\"sum\": 0.627174105644226, \"count\": 1, \"min\": 0.627174105644226, \"max\": 0.627174105644226}}}\u001b[0m\n",
      "\u001b[34m#metrics {\"StartTime\": 1637216527.9910822, \"EndTime\": 1637216527.991101, \"Dimensions\": {\"Algorithm\": \"Linear Learner\", \"Host\": \"algo-1\", \"Operation\": \"training\", \"epoch\": 13, \"model\": 1}, \"Metrics\": {\"train_absolute_loss_objective\": {\"sum\": 0.614514307975769, \"count\": 1, \"min\": 0.614514307975769, \"max\": 0.614514307975769}}}\u001b[0m\n",
      "\u001b[34m#metrics {\"StartTime\": 1637216527.9911883, \"EndTime\": 1637216527.9912324, \"Dimensions\": {\"Algorithm\": \"Linear Learner\", \"Host\": \"algo-1\", \"Operation\": \"training\", \"epoch\": 13, \"model\": 2}, \"Metrics\": {\"train_absolute_loss_objective\": {\"sum\": 0.6066998863220214, \"count\": 1, \"min\": 0.6066998863220214, \"max\": 0.6066998863220214}}}\u001b[0m\n",
      "\u001b[34m#metrics {\"StartTime\": 1637216527.9912932, \"EndTime\": 1637216527.9913118, \"Dimensions\": {\"Algorithm\": \"Linear Learner\", \"Host\": \"algo-1\", \"Operation\": \"training\", \"epoch\": 13, \"model\": 3}, \"Metrics\": {\"train_absolute_loss_objective\": {\"sum\": 0.585781078338623, \"count\": 1, \"min\": 0.585781078338623, \"max\": 0.585781078338623}}}\u001b[0m\n",
      "\u001b[34m#metrics {\"StartTime\": 1637216527.9913642, \"EndTime\": 1637216527.9914112, \"Dimensions\": {\"Algorithm\": \"Linear Learner\", \"Host\": \"algo-1\", \"Operation\": \"training\", \"epoch\": 13, \"model\": 4}, \"Metrics\": {\"train_absolute_loss_objective\": {\"sum\": 0.1613643205165863, \"count\": 1, \"min\": 0.1613643205165863, \"max\": 0.1613643205165863}}}\u001b[0m\n",
      "\u001b[34m[11/18/2021 06:22:07 INFO 140709504116544] #quality_metric: host=algo-1, epoch=13, train absolute_loss_objective <loss>=0.627174105644226\u001b[0m\n",
      "\u001b[34m[11/18/2021 06:22:07 INFO 140709504116544] #early_stopping_criteria_metric: host=algo-1, epoch=13, criteria=absolute_loss_objective, value=0.1613643205165863\u001b[0m\n",
      "\u001b[34m[11/18/2021 06:22:07 INFO 140709504116544] Epoch 13: Loss improved. Updating best model\u001b[0m\n",
      "\u001b[34m[11/18/2021 06:22:07 INFO 140709504116544] Saving model for epoch: 13\u001b[0m\n",
      "\u001b[34m[11/18/2021 06:22:07 INFO 140709504116544] Saved checkpoint to \"/tmp/tmp20pjza2m/mx-mod-0000.params\"\u001b[0m\n",
      "\u001b[34m[11/18/2021 06:22:07 INFO 140709504116544] #progress_metric: host=algo-1, completed 28.0 % of epochs\u001b[0m\n",
      "\u001b[34m#metrics {\"StartTime\": 1637216527.9681325, \"EndTime\": 1637216527.998661, \"Dimensions\": {\"Algorithm\": \"Linear Learner\", \"Host\": \"algo-1\", \"Operation\": \"training\", \"epoch\": 13, \"Meta\": \"training_data_iter\"}, \"Metrics\": {\"Total Records Seen\": {\"sum\": 395.0, \"count\": 1, \"min\": 395, \"max\": 395}, \"Total Batches Seen\": {\"sum\": 91.0, \"count\": 1, \"min\": 91, \"max\": 91}, \"Max Records Seen Between Resets\": {\"sum\": 26.0, \"count\": 1, \"min\": 26, \"max\": 26}, \"Max Batches Seen Between Resets\": {\"sum\": 6.0, \"count\": 1, \"min\": 6, \"max\": 6}, \"Reset Count\": {\"sum\": 16.0, \"count\": 1, \"min\": 16, \"max\": 16}, \"Number of Records Since Last Reset\": {\"sum\": 26.0, \"count\": 1, \"min\": 26, \"max\": 26}, \"Number of Batches Since Last Reset\": {\"sum\": 6.0, \"count\": 1, \"min\": 6, \"max\": 6}}}\u001b[0m\n",
      "\u001b[34m[11/18/2021 06:22:07 INFO 140709504116544] #throughput_metric: host=algo-1, train throughput=847.867764482697 records/second\u001b[0m\n",
      "\u001b[34m[2021-11-18 06:22:08.040] [tensorio] [info] epoch_stats={\"data_pipeline\": \"/opt/ml/input/data/train\", \"epoch\": 32, \"duration\": 41, \"num_examples\": 6, \"num_bytes\": 1248}\u001b[0m\n",
      "\u001b[34m#metrics {\"StartTime\": 1637216528.0409799, \"EndTime\": 1637216528.0410247, \"Dimensions\": {\"Algorithm\": \"Linear Learner\", \"Host\": \"algo-1\", \"Operation\": \"training\", \"epoch\": 14, \"model\": 0}, \"Metrics\": {\"train_absolute_loss_objective\": {\"sum\": 0.6079709959030152, \"count\": 1, \"min\": 0.6079709959030152, \"max\": 0.6079709959030152}}}\u001b[0m\n",
      "\u001b[34m#metrics {\"StartTime\": 1637216528.0411854, \"EndTime\": 1637216528.041203, \"Dimensions\": {\"Algorithm\": \"Linear Learner\", \"Host\": \"algo-1\", \"Operation\": \"training\", \"epoch\": 14, \"model\": 1}, \"Metrics\": {\"train_absolute_loss_objective\": {\"sum\": 0.5940420293807983, \"count\": 1, \"min\": 0.5940420293807983, \"max\": 0.5940420293807983}}}\u001b[0m\n",
      "\u001b[34m#metrics {\"StartTime\": 1637216528.0412505, \"EndTime\": 1637216528.0412621, \"Dimensions\": {\"Algorithm\": \"Linear Learner\", \"Host\": \"algo-1\", \"Operation\": \"training\", \"epoch\": 14, \"model\": 2}, \"Metrics\": {\"train_absolute_loss_objective\": {\"sum\": 0.5891971874237061, \"count\": 1, \"min\": 0.5891971874237061, \"max\": 0.5891971874237061}}}\u001b[0m\n",
      "\u001b[34m#metrics {\"StartTime\": 1637216528.0414789, \"EndTime\": 1637216528.0414956, \"Dimensions\": {\"Algorithm\": \"Linear Learner\", \"Host\": \"algo-1\", \"Operation\": \"training\", \"epoch\": 14, \"model\": 3}, \"Metrics\": {\"train_absolute_loss_objective\": {\"sum\": 0.5647295999526978, \"count\": 1, \"min\": 0.5647295999526978, \"max\": 0.5647295999526978}}}\u001b[0m\n",
      "\u001b[34m#metrics {\"StartTime\": 1637216528.0415452, \"EndTime\": 1637216528.0415573, \"Dimensions\": {\"Algorithm\": \"Linear Learner\", \"Host\": \"algo-1\", \"Operation\": \"training\", \"epoch\": 14, \"model\": 4}, \"Metrics\": {\"train_absolute_loss_objective\": {\"sum\": 0.16847925662994384, \"count\": 1, \"min\": 0.16847925662994384, \"max\": 0.16847925662994384}}}\u001b[0m\n",
      "\u001b[34m[11/18/2021 06:22:08 INFO 140709504116544] #quality_metric: host=algo-1, epoch=14, train absolute_loss_objective <loss>=0.6079709959030152\u001b[0m\n",
      "\u001b[34m[11/18/2021 06:22:08 INFO 140709504116544] #early_stopping_criteria_metric: host=algo-1, epoch=14, criteria=absolute_loss_objective, value=0.16847925662994384\u001b[0m\n",
      "\u001b[34m[11/18/2021 06:22:08 INFO 140709504116544] Saving model for epoch: 14\u001b[0m\n",
      "\u001b[34m[11/18/2021 06:22:08 INFO 140709504116544] Saved checkpoint to \"/tmp/tmp7wu1gyg3/mx-mod-0000.params\"\u001b[0m\n",
      "\u001b[34m[11/18/2021 06:22:08 INFO 140709504116544] #progress_metric: host=algo-1, completed 30.0 % of epochs\u001b[0m\n",
      "\u001b[34m#metrics {\"StartTime\": 1637216527.998957, \"EndTime\": 1637216528.0495157, \"Dimensions\": {\"Algorithm\": \"Linear Learner\", \"Host\": \"algo-1\", \"Operation\": \"training\", \"epoch\": 14, \"Meta\": \"training_data_iter\"}, \"Metrics\": {\"Total Records Seen\": {\"sum\": 421.0, \"count\": 1, \"min\": 421, \"max\": 421}, \"Total Batches Seen\": {\"sum\": 97.0, \"count\": 1, \"min\": 97, \"max\": 97}, \"Max Records Seen Between Resets\": {\"sum\": 26.0, \"count\": 1, \"min\": 26, \"max\": 26}, \"Max Batches Seen Between Resets\": {\"sum\": 6.0, \"count\": 1, \"min\": 6, \"max\": 6}, \"Reset Count\": {\"sum\": 17.0, \"count\": 1, \"min\": 17, \"max\": 17}, \"Number of Records Since Last Reset\": {\"sum\": 26.0, \"count\": 1, \"min\": 26, \"max\": 26}, \"Number of Batches Since Last Reset\": {\"sum\": 6.0, \"count\": 1, \"min\": 6, \"max\": 6}}}\u001b[0m\n",
      "\u001b[34m[11/18/2021 06:22:08 INFO 140709504116544] #throughput_metric: host=algo-1, train throughput=512.5125317818017 records/second\u001b[0m\n",
      "\u001b[34m[2021-11-18 06:22:08.072] [tensorio] [info] epoch_stats={\"data_pipeline\": \"/opt/ml/input/data/train\", \"epoch\": 34, \"duration\": 22, \"num_examples\": 6, \"num_bytes\": 1248}\u001b[0m\n",
      "\u001b[34m#metrics {\"StartTime\": 1637216528.0722408, \"EndTime\": 1637216528.0722778, \"Dimensions\": {\"Algorithm\": \"Linear Learner\", \"Host\": \"algo-1\", \"Operation\": \"training\", \"epoch\": 15, \"model\": 0}, \"Metrics\": {\"train_absolute_loss_objective\": {\"sum\": 0.5887651443481445, \"count\": 1, \"min\": 0.5887651443481445, \"max\": 0.5887651443481445}}}\u001b[0m\n",
      "\u001b[34m#metrics {\"StartTime\": 1637216528.0723531, \"EndTime\": 1637216528.072369, \"Dimensions\": {\"Algorithm\": \"Linear Learner\", \"Host\": \"algo-1\", \"Operation\": \"training\", \"epoch\": 15, \"model\": 1}, \"Metrics\": {\"train_absolute_loss_objective\": {\"sum\": 0.5734363985061646, \"count\": 1, \"min\": 0.5734363985061646, \"max\": 0.5734363985061646}}}\u001b[0m\n",
      "\u001b[34m#metrics {\"StartTime\": 1637216528.0724266, \"EndTime\": 1637216528.072444, \"Dimensions\": {\"Algorithm\": \"Linear Learner\", \"Host\": \"algo-1\", \"Operation\": \"training\", \"epoch\": 15, \"model\": 2}, \"Metrics\": {\"train_absolute_loss_objective\": {\"sum\": 0.5708350133895874, \"count\": 1, \"min\": 0.5708350133895874, \"max\": 0.5708350133895874}}}\u001b[0m\n",
      "\u001b[34m#metrics {\"StartTime\": 1637216528.072505, \"EndTime\": 1637216528.0725234, \"Dimensions\": {\"Algorithm\": \"Linear Learner\", \"Host\": \"algo-1\", \"Operation\": \"training\", \"epoch\": 15, \"model\": 3}, \"Metrics\": {\"train_absolute_loss_objective\": {\"sum\": 0.5441663265228271, \"count\": 1, \"min\": 0.5441663265228271, \"max\": 0.5441663265228271}}}\u001b[0m\n",
      "\u001b[34m#metrics {\"StartTime\": 1637216528.0725768, \"EndTime\": 1637216528.0725927, \"Dimensions\": {\"Algorithm\": \"Linear Learner\", \"Host\": \"algo-1\", \"Operation\": \"training\", \"epoch\": 15, \"model\": 4}, \"Metrics\": {\"train_absolute_loss_objective\": {\"sum\": 0.16123664021492004, \"count\": 1, \"min\": 0.16123664021492004, \"max\": 0.16123664021492004}}}\u001b[0m\n",
      "\u001b[34m[11/18/2021 06:22:08 INFO 140709504116544] #quality_metric: host=algo-1, epoch=15, train absolute_loss_objective <loss>=0.5887651443481445\u001b[0m\n",
      "\u001b[34m[11/18/2021 06:22:08 INFO 140709504116544] #early_stopping_criteria_metric: host=algo-1, epoch=15, criteria=absolute_loss_objective, value=0.16123664021492004\u001b[0m\n",
      "\u001b[34m[11/18/2021 06:22:08 INFO 140709504116544] Saving model for epoch: 15\u001b[0m\n",
      "\u001b[34m[11/18/2021 06:22:08 INFO 140709504116544] Saved checkpoint to \"/tmp/tmpnshcajxr/mx-mod-0000.params\"\u001b[0m\n",
      "\u001b[34m[11/18/2021 06:22:08 INFO 140709504116544] #progress_metric: host=algo-1, completed 32.0 % of epochs\u001b[0m\n",
      "\u001b[34m#metrics {\"StartTime\": 1637216528.0499141, \"EndTime\": 1637216528.0793257, \"Dimensions\": {\"Algorithm\": \"Linear Learner\", \"Host\": \"algo-1\", \"Operation\": \"training\", \"epoch\": 15, \"Meta\": \"training_data_iter\"}, \"Metrics\": {\"Total Records Seen\": {\"sum\": 447.0, \"count\": 1, \"min\": 447, \"max\": 447}, \"Total Batches Seen\": {\"sum\": 103.0, \"count\": 1, \"min\": 103, \"max\": 103}, \"Max Records Seen Between Resets\": {\"sum\": 26.0, \"count\": 1, \"min\": 26, \"max\": 26}, \"Max Batches Seen Between Resets\": {\"sum\": 6.0, \"count\": 1, \"min\": 6, \"max\": 6}, \"Reset Count\": {\"sum\": 18.0, \"count\": 1, \"min\": 18, \"max\": 18}, \"Number of Records Since Last Reset\": {\"sum\": 26.0, \"count\": 1, \"min\": 26, \"max\": 26}, \"Number of Batches Since Last Reset\": {\"sum\": 6.0, \"count\": 1, \"min\": 6, \"max\": 6}}}\u001b[0m\n",
      "\u001b[34m[11/18/2021 06:22:08 INFO 140709504116544] #throughput_metric: host=algo-1, train throughput=880.260110101222 records/second\u001b[0m\n",
      "\u001b[34m[2021-11-18 06:22:08.105] [tensorio] [info] epoch_stats={\"data_pipeline\": \"/opt/ml/input/data/train\", \"epoch\": 36, \"duration\": 25, \"num_examples\": 6, \"num_bytes\": 1248}\u001b[0m\n",
      "\u001b[34m#metrics {\"StartTime\": 1637216528.1056988, \"EndTime\": 1637216528.105734, \"Dimensions\": {\"Algorithm\": \"Linear Learner\", \"Host\": \"algo-1\", \"Operation\": \"training\", \"epoch\": 16, \"model\": 0}, \"Metrics\": {\"train_absolute_loss_objective\": {\"sum\": 0.5712561321258545, \"count\": 1, \"min\": 0.5712561321258545, \"max\": 0.5712561321258545}}}\u001b[0m\n",
      "\u001b[34m#metrics {\"StartTime\": 1637216528.1057956, \"EndTime\": 1637216528.10588, \"Dimensions\": {\"Algorithm\": \"Linear Learner\", \"Host\": \"algo-1\", \"Operation\": \"training\", \"epoch\": 16, \"model\": 1}, \"Metrics\": {\"train_absolute_loss_objective\": {\"sum\": 0.5545791578292847, \"count\": 1, \"min\": 0.5545791578292847, \"max\": 0.5545791578292847}}}\u001b[0m\n",
      "\u001b[34m#metrics {\"StartTime\": 1637216528.1059294, \"EndTime\": 1637216528.1059413, \"Dimensions\": {\"Algorithm\": \"Linear Learner\", \"Host\": \"algo-1\", \"Operation\": \"training\", \"epoch\": 16, \"model\": 2}, \"Metrics\": {\"train_absolute_loss_objective\": {\"sum\": 0.551486668586731, \"count\": 1, \"min\": 0.551486668586731, \"max\": 0.551486668586731}}}\u001b[0m\n",
      "\u001b[34m#metrics {\"StartTime\": 1637216528.1060314, \"EndTime\": 1637216528.106046, \"Dimensions\": {\"Algorithm\": \"Linear Learner\", \"Host\": \"algo-1\", \"Operation\": \"training\", \"epoch\": 16, \"model\": 3}, \"Metrics\": {\"train_absolute_loss_objective\": {\"sum\": 0.5252477884292602, \"count\": 1, \"min\": 0.5252477884292602, \"max\": 0.5252477884292602}}}\u001b[0m\n",
      "\u001b[34m#metrics {\"StartTime\": 1637216528.1060843, \"EndTime\": 1637216528.1060948, \"Dimensions\": {\"Algorithm\": \"Linear Learner\", \"Host\": \"algo-1\", \"Operation\": \"training\", \"epoch\": 16, \"model\": 4}, \"Metrics\": {\"train_absolute_loss_objective\": {\"sum\": 0.18925400733947753, \"count\": 1, \"min\": 0.18925400733947753, \"max\": 0.18925400733947753}}}\u001b[0m\n",
      "\u001b[34m[11/18/2021 06:22:08 INFO 140709504116544] #quality_metric: host=algo-1, epoch=16, train absolute_loss_objective <loss>=0.5712561321258545\u001b[0m\n",
      "\u001b[34m[11/18/2021 06:22:08 INFO 140709504116544] #early_stopping_criteria_metric: host=algo-1, epoch=16, criteria=absolute_loss_objective, value=0.18925400733947753\u001b[0m\n",
      "\u001b[34m[11/18/2021 06:22:08 INFO 140709504116544] Saving model for epoch: 16\u001b[0m\n",
      "\u001b[34m[11/18/2021 06:22:08 INFO 140709504116544] Saved checkpoint to \"/tmp/tmpwx1h7csk/mx-mod-0000.params\"\u001b[0m\n",
      "\u001b[34m[11/18/2021 06:22:08 INFO 140709504116544] #progress_metric: host=algo-1, completed 34.0 % of epochs\u001b[0m\n",
      "\u001b[34m#metrics {\"StartTime\": 1637216528.0796683, \"EndTime\": 1637216528.1137657, \"Dimensions\": {\"Algorithm\": \"Linear Learner\", \"Host\": \"algo-1\", \"Operation\": \"training\", \"epoch\": 16, \"Meta\": \"training_data_iter\"}, \"Metrics\": {\"Total Records Seen\": {\"sum\": 473.0, \"count\": 1, \"min\": 473, \"max\": 473}, \"Total Batches Seen\": {\"sum\": 109.0, \"count\": 1, \"min\": 109, \"max\": 109}, \"Max Records Seen Between Resets\": {\"sum\": 26.0, \"count\": 1, \"min\": 26, \"max\": 26}, \"Max Batches Seen Between Resets\": {\"sum\": 6.0, \"count\": 1, \"min\": 6, \"max\": 6}, \"Reset Count\": {\"sum\": 19.0, \"count\": 1, \"min\": 19, \"max\": 19}, \"Number of Records Since Last Reset\": {\"sum\": 26.0, \"count\": 1, \"min\": 26, \"max\": 26}, \"Number of Batches Since Last Reset\": {\"sum\": 6.0, \"count\": 1, \"min\": 6, \"max\": 6}}}\u001b[0m\n",
      "\u001b[34m[11/18/2021 06:22:08 INFO 140709504116544] #throughput_metric: host=algo-1, train throughput=759.0390823478642 records/second\u001b[0m\n",
      "\u001b[34m[2021-11-18 06:22:08.147] [tensorio] [info] epoch_stats={\"data_pipeline\": \"/opt/ml/input/data/train\", \"epoch\": 38, \"duration\": 33, \"num_examples\": 6, \"num_bytes\": 1248}\u001b[0m\n",
      "\u001b[34m#metrics {\"StartTime\": 1637216528.1472414, \"EndTime\": 1637216528.14728, \"Dimensions\": {\"Algorithm\": \"Linear Learner\", \"Host\": \"algo-1\", \"Operation\": \"training\", \"epoch\": 17, \"model\": 0}, \"Metrics\": {\"train_absolute_loss_objective\": {\"sum\": 0.5530690670013427, \"count\": 1, \"min\": 0.5530690670013427, \"max\": 0.5530690670013427}}}\u001b[0m\n",
      "\u001b[34m#metrics {\"StartTime\": 1637216528.1475005, \"EndTime\": 1637216528.14752, \"Dimensions\": {\"Algorithm\": \"Linear Learner\", \"Host\": \"algo-1\", \"Operation\": \"training\", \"epoch\": 17, \"model\": 1}, \"Metrics\": {\"train_absolute_loss_objective\": {\"sum\": 0.5348694849014283, \"count\": 1, \"min\": 0.5348694849014283, \"max\": 0.5348694849014283}}}\u001b[0m\n",
      "\u001b[34m#metrics {\"StartTime\": 1637216528.1475754, \"EndTime\": 1637216528.1475875, \"Dimensions\": {\"Algorithm\": \"Linear Learner\", \"Host\": \"algo-1\", \"Operation\": \"training\", \"epoch\": 17, \"model\": 2}, \"Metrics\": {\"train_absolute_loss_objective\": {\"sum\": 0.5325257015228272, \"count\": 1, \"min\": 0.5325257015228272, \"max\": 0.5325257015228272}}}\u001b[0m\n",
      "\u001b[34m#metrics {\"StartTime\": 1637216528.1476912, \"EndTime\": 1637216528.1477077, \"Dimensions\": {\"Algorithm\": \"Linear Learner\", \"Host\": \"algo-1\", \"Operation\": \"training\", \"epoch\": 17, \"model\": 3}, \"Metrics\": {\"train_absolute_loss_objective\": {\"sum\": 0.5054742479324341, \"count\": 1, \"min\": 0.5054742479324341, \"max\": 0.5054742479324341}}}\u001b[0m\n",
      "\u001b[34m#metrics {\"StartTime\": 1637216528.1477506, \"EndTime\": 1637216528.147761, \"Dimensions\": {\"Algorithm\": \"Linear Learner\", \"Host\": \"algo-1\", \"Operation\": \"training\", \"epoch\": 17, \"model\": 4}, \"Metrics\": {\"train_absolute_loss_objective\": {\"sum\": 0.2110287928581238, \"count\": 1, \"min\": 0.2110287928581238, \"max\": 0.2110287928581238}}}\u001b[0m\n",
      "\u001b[34m[11/18/2021 06:22:08 INFO 140709504116544] #quality_metric: host=algo-1, epoch=17, train absolute_loss_objective <loss>=0.5530690670013427\u001b[0m\n",
      "\u001b[34m[11/18/2021 06:22:08 INFO 140709504116544] #early_stopping_criteria_metric: host=algo-1, epoch=17, criteria=absolute_loss_objective, value=0.2110287928581238\u001b[0m\n",
      "\u001b[34m[11/18/2021 06:22:08 INFO 140709504116544] Saving model for epoch: 17\u001b[0m\n",
      "\u001b[34m[11/18/2021 06:22:08 INFO 140709504116544] Saved checkpoint to \"/tmp/tmp0emxkm3w/mx-mod-0000.params\"\u001b[0m\n",
      "\u001b[34m[11/18/2021 06:22:08 INFO 140709504116544] Early stop condition met. Stopping training.\u001b[0m\n",
      "\u001b[34m[11/18/2021 06:22:08 INFO 140709504116544] #progress_metric: host=algo-1, completed 100 % epochs\u001b[0m\n",
      "\u001b[34m#metrics {\"StartTime\": 1637216528.114079, \"EndTime\": 1637216528.1555393, \"Dimensions\": {\"Algorithm\": \"Linear Learner\", \"Host\": \"algo-1\", \"Operation\": \"training\", \"epoch\": 17, \"Meta\": \"training_data_iter\"}, \"Metrics\": {\"Total Records Seen\": {\"sum\": 499.0, \"count\": 1, \"min\": 499, \"max\": 499}, \"Total Batches Seen\": {\"sum\": 115.0, \"count\": 1, \"min\": 115, \"max\": 115}, \"Max Records Seen Between Resets\": {\"sum\": 26.0, \"count\": 1, \"min\": 26, \"max\": 26}, \"Max Batches Seen Between Resets\": {\"sum\": 6.0, \"count\": 1, \"min\": 6, \"max\": 6}, \"Reset Count\": {\"sum\": 20.0, \"count\": 1, \"min\": 20, \"max\": 20}, \"Number of Records Since Last Reset\": {\"sum\": 26.0, \"count\": 1, \"min\": 26, \"max\": 26}, \"Number of Batches Since Last Reset\": {\"sum\": 6.0, \"count\": 1, \"min\": 6, \"max\": 6}}}\u001b[0m\n",
      "\u001b[34m[11/18/2021 06:22:08 INFO 140709504116544] #throughput_metric: host=algo-1, train throughput=624.8819821678242 records/second\u001b[0m\n",
      "\u001b[34m[11/18/2021 06:22:08 WARNING 140709504116544] wait_for_all_workers will not sync workers since the kv store is not running distributed\u001b[0m\n",
      "\u001b[34m[11/18/2021 06:22:08 WARNING 140709504116544] wait_for_all_workers will not sync workers since the kv store is not running distributed\u001b[0m\n",
      "\u001b[34m[2021-11-18 06:22:08.156] [tensorio] [info] epoch_stats={\"data_pipeline\": \"/opt/ml/input/data/train\", \"epoch\": 40, \"duration\": 0, \"num_examples\": 1, \"num_bytes\": 240}\u001b[0m\n",
      "\u001b[34m[2021-11-18 06:22:08.169] [tensorio] [info] epoch_stats={\"data_pipeline\": \"/opt/ml/input/data/train\", \"epoch\": 42, \"duration\": 9, \"num_examples\": 6, \"num_bytes\": 1248}\u001b[0m\n",
      "\u001b[34m[11/18/2021 06:22:08 INFO 140709504116544] #train_score (algo-1) : ('absolute_loss_objective', 4610.3590745192305)\u001b[0m\n",
      "\u001b[34m[11/18/2021 06:22:08 INFO 140709504116544] #train_score (algo-1) : ('mse', 31552819.451923076)\u001b[0m\n",
      "\u001b[34m[11/18/2021 06:22:08 INFO 140709504116544] #train_score (algo-1) : ('absolute_loss', 4610.3590745192305)\u001b[0m\n",
      "\u001b[34m[11/18/2021 06:22:08 INFO 140709504116544] #quality_metric: host=algo-1, train absolute_loss_objective <loss>=4610.3590745192305\u001b[0m\n",
      "\u001b[34m[11/18/2021 06:22:08 INFO 140709504116544] #quality_metric: host=algo-1, train mse <loss>=31552819.451923076\u001b[0m\n",
      "\u001b[34m[11/18/2021 06:22:08 INFO 140709504116544] #quality_metric: host=algo-1, train absolute_loss <loss>=4610.3590745192305\u001b[0m\n",
      "\u001b[34m[11/18/2021 06:22:08 INFO 140709504116544] Best model found for hyperparameters: {\"optimizer\": \"adam\", \"learning_rate\": 0.1, \"wd\": 0.0001, \"l1\": 0.0, \"lr_scheduler_step\": 10, \"lr_scheduler_factor\": 0.99, \"lr_scheduler_minimum_lr\": 1e-05}\u001b[0m\n",
      "\u001b[34m[11/18/2021 06:22:08 INFO 140709504116544] Saved checkpoint to \"/tmp/tmppeb6ncra/mx-mod-0000.params\"\u001b[0m\n",
      "\u001b[34m[11/18/2021 06:22:08 INFO 140709504116544] Test data is not provided.\u001b[0m\n",
      "\u001b[34m#metrics {\"StartTime\": 1637216527.4009025, \"EndTime\": 1637216528.1735988, \"Dimensions\": {\"Algorithm\": \"Linear Learner\", \"Host\": \"algo-1\", \"Operation\": \"training\"}, \"Metrics\": {\"initialize.time\": {\"sum\": 132.94720649719238, \"count\": 1, \"min\": 132.94720649719238, \"max\": 132.94720649719238}, \"epochs\": {\"sum\": 50.0, \"count\": 1, \"min\": 50, \"max\": 50}, \"check_early_stopping.time\": {\"sum\": 10.686635971069336, \"count\": 18, \"min\": 0.17118453979492188, \"max\": 1.3339519500732422}, \"update.time\": {\"sum\": 554.0268421173096, \"count\": 18, \"min\": 25.319337844848633, \"max\": 56.21600151062012}, \"finalize.time\": {\"sum\": 14.10222053527832, \"count\": 1, \"min\": 14.10222053527832, \"max\": 14.10222053527832}, \"setuptime\": {\"sum\": 25.467872619628906, \"count\": 1, \"min\": 25.467872619628906, \"max\": 25.467872619628906}, \"totaltime\": {\"sum\": 1035.4650020599365, \"count\": 1, \"min\": 1035.4650020599365, \"max\": 1035.4650020599365}}}\u001b[0m\n",
      "\n",
      "2021-11-18 06:22:28 Completed - Training job completed\n",
      "Training seconds: 54\n",
      "Billable seconds: 54\n"
     ]
    }
   ],
   "source": [
    "s3_train_data = 's3://{}/{}/train/{}'.format(bucket,prefix,key)\n",
    "\n",
    "# Training\n",
    "linear.fit({'train':s3_train_data})"
   ]
  },
  {
   "cell_type": "code",
   "execution_count": 108,
   "metadata": {},
   "outputs": [
    {
     "name": "stdout",
     "output_type": "stream",
     "text": [
      "-------!"
     ]
    }
   ],
   "source": [
    "# Deploy\n",
    "l_r = linear.deploy(initial_instance_count=1, instance_type='ml.m4.xlarge')"
   ]
  },
  {
   "cell_type": "code",
   "execution_count": 112,
   "metadata": {},
   "outputs": [],
   "source": [
    "#Prediction\n",
    "from sagemaker.predictor import csv_serializer,json_deserializer\n",
    "\n",
    "# l_r.content_type = 'text/csv'\n",
    "l_r.serializer = csv_serializer\n",
    "l_r.deserializer = json_deserializer"
   ]
  },
  {
   "cell_type": "code",
   "execution_count": 113,
   "metadata": {},
   "outputs": [
    {
     "name": "stderr",
     "output_type": "stream",
     "text": [
      "The csv_serializer has been renamed in sagemaker>=2.\n",
      "See: https://sagemaker.readthedocs.io/en/stable/v2.html for details.\n",
      "The json_deserializer has been renamed in sagemaker>=2.\n",
      "See: https://sagemaker.readthedocs.io/en/stable/v2.html for details.\n"
     ]
    }
   ],
   "source": [
    "result = l_r.predict(X_test)"
   ]
  },
  {
   "cell_type": "code",
   "execution_count": 114,
   "metadata": {},
   "outputs": [
    {
     "data": {
      "text/plain": [
       "{'predictions': [{'score': 112096.953125},\n",
       "  {'score': 36656.3984375},\n",
       "  {'score': 148897.234375},\n",
       "  {'score': 44936.4609375},\n",
       "  {'score': 54136.52734375},\n",
       "  {'score': 61496.58203125},\n",
       "  {'score': 127737.078125},\n",
       "  {'score': 79896.71875},\n",
       "  {'score': 54136.52734375}]}"
      ]
     },
     "execution_count": 114,
     "metadata": {},
     "output_type": "execute_result"
    }
   ],
   "source": [
    "result"
   ]
  },
  {
   "cell_type": "code",
   "execution_count": 118,
   "metadata": {},
   "outputs": [],
   "source": [
    "y_pred = np.array([r['score'] for r in result['predictions']])"
   ]
  },
  {
   "cell_type": "code",
   "execution_count": 119,
   "metadata": {},
   "outputs": [
    {
     "data": {
      "text/plain": [
       "array([112096.953125  ,  36656.3984375 , 148897.234375  ,  44936.4609375 ,\n",
       "        54136.52734375,  61496.58203125, 127737.078125  ,  79896.71875   ,\n",
       "        54136.52734375])"
      ]
     },
     "execution_count": 119,
     "metadata": {},
     "output_type": "execute_result"
    }
   ],
   "source": [
    "y_pred"
   ]
  },
  {
   "cell_type": "code",
   "execution_count": 120,
   "metadata": {},
   "outputs": [],
   "source": [
    "import matplotlib.pyplot as plt"
   ]
  },
  {
   "cell_type": "code",
   "execution_count": 124,
   "metadata": {},
   "outputs": [
    {
     "data": {
      "text/plain": [
       "Text(0.5, 1.0, 'Salary vs Experience')"
      ]
     },
     "execution_count": 124,
     "metadata": {},
     "output_type": "execute_result"
    },
    {
     "data": {
      "image/png": "[encoded data removed]",
      "text/plain": [
       "<Figure size 432x288 with 1 Axes>"
      ]
     },
     "metadata": {
      "needs_background": "light"
     },
     "output_type": "display_data"
    }
   ],
   "source": [
    "plt.scatter(X_test,y_test, color='grey')\n",
    "plt.plot(X_test,y_pred, color='red')\n",
    "plt.xlabel('Experience')\n",
    "plt.ylabel('Salary')\n",
    "plt.title('Salary vs Experience')"
   ]
  },
  {
   "cell_type": "code",
   "execution_count": 125,
   "metadata": {},
   "outputs": [
    {
     "ename": "AttributeError",
     "evalue": "'Predictor' object has no attribute 'delete_enspoint'",
     "output_type": "error",
     "traceback": [
      "\u001b[0;31m---------------------------------------------------------------------------\u001b[0m",
      "\u001b[0;31mAttributeError\u001b[0m                            Traceback (most recent call last)",
      "\u001b[0;32m<ipython-input-125-bd38a5640499>\u001b[0m in \u001b[0;36m<module>\u001b[0;34m\u001b[0m\n\u001b[0;32m----> 1\u001b[0;31m \u001b[0ml_r\u001b[0m\u001b[0;34m.\u001b[0m\u001b[0mdelete_enspoint\u001b[0m\u001b[0;34m(\u001b[0m\u001b[0;34m)\u001b[0m\u001b[0;34m\u001b[0m\u001b[0;34m\u001b[0m\u001b[0m\n\u001b[0m",
      "\u001b[0;31mAttributeError\u001b[0m: 'Predictor' object has no attribute 'delete_enspoint'"
     ]
    }
   ],
   "source": [
    "l_r.delete_enspoint()"
   ]
  },
  {
   "cell_type": "code",
   "execution_count": null,
   "metadata": {},
   "outputs": [],
   "source": []
  }
 ],
 "metadata": {
  "instance_type": "ml.t3.medium",
  "kernelspec": {
   "display_name": "Python 3 (Data Science)",
   "language": "python",
   "name": "python3__SAGEMAKER_INTERNAL__arn:aws:sagemaker:us-east-2:429704687514:image/datascience-1.0"
  },
  "language_info": {
   "codemirror_mode": {
    "name": "ipython",
    "version": 3
   },
   "file_extension": ".py",
   "mimetype": "text/x-python",
   "name": "python",
   "nbconvert_exporter": "python",
   "pygments_lexer": "ipython3",
   "version": "3.7.10"
  }
 },
 "nbformat": 4,
 "nbformat_minor": 4
}
